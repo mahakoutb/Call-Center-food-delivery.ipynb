{
  "cells": [
    {
      "cell_type": "markdown",
      "source": [
        "##Call Center Food Delivery Analysis\n",
        "By : Eng.Maha Koutb\n",
        "https://www.linkedin.com/in/maha-koutb/"
      ],
      "metadata": {
        "id": "uX49knFzivCf"
      }
    },
    {
      "cell_type": "markdown",
      "source": [
        "##Analysis Objective :\n",
        "Uncover insights that could help improve efficiency, profitability, and customer satisfaction"
      ],
      "metadata": {
        "id": "TOIyCXczjcRH"
      }
    },
    {
      "cell_type": "markdown",
      "source": [
        "\n",
        "##Potential metrics & KPIS that will be calculated in this Project :\n",
        "1. Average Delivery Time: The time it takes from when an order is placed to when it is\n",
        "delivered. This KPI is crucial for measuring the efficiency of the delivery service.\n",
        "2. Driver Efficiency: This can be determined by calculating the number of deliveries completed per hour by each driver.\n",
        "3. Order Completion Rate: The percentage of orders that are successfully delivered versus those that are refunded. This can be a measure of customer satisfaction and operational efficiency.\n",
        "4. Average Tip per Delivery: This can serve as a proxy for customer satisfaction and could be used to reward high-performing drivers.\n",
        "5. Peak Ordering Times: Understanding when most orders are placed can help with resource allocation and planning.\n"
      ],
      "metadata": {
        "id": "I7oAmEf6hw4p"
      }
    },
    {
      "cell_type": "markdown",
      "source": [
        "##Lets Start with Exploration Data Analysis - EDA"
      ],
      "metadata": {
        "id": "HxMJMgCRj1qo"
      }
    },
    {
      "cell_type": "code",
      "execution_count": 1,
      "metadata": {
        "id": "P73Ku6bBDwCB"
      },
      "outputs": [],
      "source": [
        "\n",
        "#import libraries\n",
        "\n",
        "import pandas as pd\n",
        "import numpy as np\n",
        "import matplotlib.pyplot as plt\n",
        "from datetime import datetime , time"
      ]
    },
    {
      "cell_type": "code",
      "execution_count": 2,
      "metadata": {
        "colab": {
          "base_uri": "https://localhost:8080/",
          "height": 339
        },
        "id": "vnI1UNX-EIiD",
        "outputId": "42f72cdf-d336-4021-8717-a6b3d7a80eac"
      },
      "outputs": [
        {
          "output_type": "execute_result",
          "data": {
            "text/plain": [
              "       Date Time customer placed order Time order placed at restaurant  \\\n",
              "0  1/1/2020                    2:52:12                         3:00:25   \n",
              "1  1/1/2020                   15:58:57                        17:56:45   \n",
              "2  1/1/2020                   19:02:37                        19:12:51   \n",
              "3  1/1/2020                    4:01:57                         4:08:18   \n",
              "4  1/1/2020                   23:46:38                        23:49:32   \n",
              "\n",
              "  Time driver arrived at restaurant Delivery time  Driver ID Driver Name  \\\n",
              "0                           3:08:09       3:35:20       9329     Christy   \n",
              "1                          18:24:39      18:57:01       9175   Elizabeth   \n",
              "2                          19:19:59      19:31:09       9051       Janet   \n",
              "3                           4:13:02       4:37:57       9389   Jacquelyn   \n",
              "4                          23:54:29       0:37:15       9187      Lauren   \n",
              "\n",
              "   Restaurant ID  Customer ID Delivery Area ASAP  Sub Total  Delivery fee  \\\n",
              "0           7263      1143515       Fremont  Yes      21.39          0.43   \n",
              "1           7247      1136820       Hayward  Yes      99.74          6.05   \n",
              "2           7293      1081871       Hayward  Yes      21.97          2.74   \n",
              "3           7046      1128255    Union City  Yes      32.79          0.12   \n",
              "4           7385      1051183       Hayward  Yes      67.56          3.77   \n",
              "\n",
              "   Service fee  Discount    Tip  Refunded amount  \n",
              "0         3.83         2   1.40              0.0  \n",
              "1         2.30         2  11.03              0.0  \n",
              "2         2.39         8   4.31              0.0  \n",
              "3         2.55         2   8.55              0.0  \n",
              "4         3.35         2   8.82              0.0  "
            ],
            "text/html": [
              "\n",
              "  <div id=\"df-da3a6707-851d-4887-9963-44be829339a6\">\n",
              "    <div class=\"colab-df-container\">\n",
              "      <div>\n",
              "<style scoped>\n",
              "    .dataframe tbody tr th:only-of-type {\n",
              "        vertical-align: middle;\n",
              "    }\n",
              "\n",
              "    .dataframe tbody tr th {\n",
              "        vertical-align: top;\n",
              "    }\n",
              "\n",
              "    .dataframe thead th {\n",
              "        text-align: right;\n",
              "    }\n",
              "</style>\n",
              "<table border=\"1\" class=\"dataframe\">\n",
              "  <thead>\n",
              "    <tr style=\"text-align: right;\">\n",
              "      <th></th>\n",
              "      <th>Date</th>\n",
              "      <th>Time customer placed order</th>\n",
              "      <th>Time order placed at restaurant</th>\n",
              "      <th>Time driver arrived at restaurant</th>\n",
              "      <th>Delivery time</th>\n",
              "      <th>Driver ID</th>\n",
              "      <th>Driver Name</th>\n",
              "      <th>Restaurant ID</th>\n",
              "      <th>Customer ID</th>\n",
              "      <th>Delivery Area</th>\n",
              "      <th>ASAP</th>\n",
              "      <th>Sub Total</th>\n",
              "      <th>Delivery fee</th>\n",
              "      <th>Service fee</th>\n",
              "      <th>Discount</th>\n",
              "      <th>Tip</th>\n",
              "      <th>Refunded amount</th>\n",
              "    </tr>\n",
              "  </thead>\n",
              "  <tbody>\n",
              "    <tr>\n",
              "      <th>0</th>\n",
              "      <td>1/1/2020</td>\n",
              "      <td>2:52:12</td>\n",
              "      <td>3:00:25</td>\n",
              "      <td>3:08:09</td>\n",
              "      <td>3:35:20</td>\n",
              "      <td>9329</td>\n",
              "      <td>Christy</td>\n",
              "      <td>7263</td>\n",
              "      <td>1143515</td>\n",
              "      <td>Fremont</td>\n",
              "      <td>Yes</td>\n",
              "      <td>21.39</td>\n",
              "      <td>0.43</td>\n",
              "      <td>3.83</td>\n",
              "      <td>2</td>\n",
              "      <td>1.40</td>\n",
              "      <td>0.0</td>\n",
              "    </tr>\n",
              "    <tr>\n",
              "      <th>1</th>\n",
              "      <td>1/1/2020</td>\n",
              "      <td>15:58:57</td>\n",
              "      <td>17:56:45</td>\n",
              "      <td>18:24:39</td>\n",
              "      <td>18:57:01</td>\n",
              "      <td>9175</td>\n",
              "      <td>Elizabeth</td>\n",
              "      <td>7247</td>\n",
              "      <td>1136820</td>\n",
              "      <td>Hayward</td>\n",
              "      <td>Yes</td>\n",
              "      <td>99.74</td>\n",
              "      <td>6.05</td>\n",
              "      <td>2.30</td>\n",
              "      <td>2</td>\n",
              "      <td>11.03</td>\n",
              "      <td>0.0</td>\n",
              "    </tr>\n",
              "    <tr>\n",
              "      <th>2</th>\n",
              "      <td>1/1/2020</td>\n",
              "      <td>19:02:37</td>\n",
              "      <td>19:12:51</td>\n",
              "      <td>19:19:59</td>\n",
              "      <td>19:31:09</td>\n",
              "      <td>9051</td>\n",
              "      <td>Janet</td>\n",
              "      <td>7293</td>\n",
              "      <td>1081871</td>\n",
              "      <td>Hayward</td>\n",
              "      <td>Yes</td>\n",
              "      <td>21.97</td>\n",
              "      <td>2.74</td>\n",
              "      <td>2.39</td>\n",
              "      <td>8</td>\n",
              "      <td>4.31</td>\n",
              "      <td>0.0</td>\n",
              "    </tr>\n",
              "    <tr>\n",
              "      <th>3</th>\n",
              "      <td>1/1/2020</td>\n",
              "      <td>4:01:57</td>\n",
              "      <td>4:08:18</td>\n",
              "      <td>4:13:02</td>\n",
              "      <td>4:37:57</td>\n",
              "      <td>9389</td>\n",
              "      <td>Jacquelyn</td>\n",
              "      <td>7046</td>\n",
              "      <td>1128255</td>\n",
              "      <td>Union City</td>\n",
              "      <td>Yes</td>\n",
              "      <td>32.79</td>\n",
              "      <td>0.12</td>\n",
              "      <td>2.55</td>\n",
              "      <td>2</td>\n",
              "      <td>8.55</td>\n",
              "      <td>0.0</td>\n",
              "    </tr>\n",
              "    <tr>\n",
              "      <th>4</th>\n",
              "      <td>1/1/2020</td>\n",
              "      <td>23:46:38</td>\n",
              "      <td>23:49:32</td>\n",
              "      <td>23:54:29</td>\n",
              "      <td>0:37:15</td>\n",
              "      <td>9187</td>\n",
              "      <td>Lauren</td>\n",
              "      <td>7385</td>\n",
              "      <td>1051183</td>\n",
              "      <td>Hayward</td>\n",
              "      <td>Yes</td>\n",
              "      <td>67.56</td>\n",
              "      <td>3.77</td>\n",
              "      <td>3.35</td>\n",
              "      <td>2</td>\n",
              "      <td>8.82</td>\n",
              "      <td>0.0</td>\n",
              "    </tr>\n",
              "  </tbody>\n",
              "</table>\n",
              "</div>\n",
              "      <button class=\"colab-df-convert\" onclick=\"convertToInteractive('df-da3a6707-851d-4887-9963-44be829339a6')\"\n",
              "              title=\"Convert this dataframe to an interactive table.\"\n",
              "              style=\"display:none;\">\n",
              "        \n",
              "  <svg xmlns=\"http://www.w3.org/2000/svg\" height=\"24px\"viewBox=\"0 0 24 24\"\n",
              "       width=\"24px\">\n",
              "    <path d=\"M0 0h24v24H0V0z\" fill=\"none\"/>\n",
              "    <path d=\"M18.56 5.44l.94 2.06.94-2.06 2.06-.94-2.06-.94-.94-2.06-.94 2.06-2.06.94zm-11 1L8.5 8.5l.94-2.06 2.06-.94-2.06-.94L8.5 2.5l-.94 2.06-2.06.94zm10 10l.94 2.06.94-2.06 2.06-.94-2.06-.94-.94-2.06-.94 2.06-2.06.94z\"/><path d=\"M17.41 7.96l-1.37-1.37c-.4-.4-.92-.59-1.43-.59-.52 0-1.04.2-1.43.59L10.3 9.45l-7.72 7.72c-.78.78-.78 2.05 0 2.83L4 21.41c.39.39.9.59 1.41.59.51 0 1.02-.2 1.41-.59l7.78-7.78 2.81-2.81c.8-.78.8-2.07 0-2.86zM5.41 20L4 18.59l7.72-7.72 1.47 1.35L5.41 20z\"/>\n",
              "  </svg>\n",
              "      </button>\n",
              "      \n",
              "  <style>\n",
              "    .colab-df-container {\n",
              "      display:flex;\n",
              "      flex-wrap:wrap;\n",
              "      gap: 12px;\n",
              "    }\n",
              "\n",
              "    .colab-df-convert {\n",
              "      background-color: #E8F0FE;\n",
              "      border: none;\n",
              "      border-radius: 50%;\n",
              "      cursor: pointer;\n",
              "      display: none;\n",
              "      fill: #1967D2;\n",
              "      height: 32px;\n",
              "      padding: 0 0 0 0;\n",
              "      width: 32px;\n",
              "    }\n",
              "\n",
              "    .colab-df-convert:hover {\n",
              "      background-color: #E2EBFA;\n",
              "      box-shadow: 0px 1px 2px rgba(60, 64, 67, 0.3), 0px 1px 3px 1px rgba(60, 64, 67, 0.15);\n",
              "      fill: #174EA6;\n",
              "    }\n",
              "\n",
              "    [theme=dark] .colab-df-convert {\n",
              "      background-color: #3B4455;\n",
              "      fill: #D2E3FC;\n",
              "    }\n",
              "\n",
              "    [theme=dark] .colab-df-convert:hover {\n",
              "      background-color: #434B5C;\n",
              "      box-shadow: 0px 1px 3px 1px rgba(0, 0, 0, 0.15);\n",
              "      filter: drop-shadow(0px 1px 2px rgba(0, 0, 0, 0.3));\n",
              "      fill: #FFFFFF;\n",
              "    }\n",
              "  </style>\n",
              "\n",
              "      <script>\n",
              "        const buttonEl =\n",
              "          document.querySelector('#df-da3a6707-851d-4887-9963-44be829339a6 button.colab-df-convert');\n",
              "        buttonEl.style.display =\n",
              "          google.colab.kernel.accessAllowed ? 'block' : 'none';\n",
              "\n",
              "        async function convertToInteractive(key) {\n",
              "          const element = document.querySelector('#df-da3a6707-851d-4887-9963-44be829339a6');\n",
              "          const dataTable =\n",
              "            await google.colab.kernel.invokeFunction('convertToInteractive',\n",
              "                                                     [key], {});\n",
              "          if (!dataTable) return;\n",
              "\n",
              "          const docLinkHtml = 'Like what you see? Visit the ' +\n",
              "            '<a target=\"_blank\" href=https://colab.research.google.com/notebooks/data_table.ipynb>data table notebook</a>'\n",
              "            + ' to learn more about interactive tables.';\n",
              "          element.innerHTML = '';\n",
              "          dataTable['output_type'] = 'display_data';\n",
              "          await google.colab.output.renderOutput(dataTable, element);\n",
              "          const docLink = document.createElement('div');\n",
              "          docLink.innerHTML = docLinkHtml;\n",
              "          element.appendChild(docLink);\n",
              "        }\n",
              "      </script>\n",
              "    </div>\n",
              "  </div>\n",
              "  "
            ]
          },
          "metadata": {},
          "execution_count": 2
        }
      ],
      "source": [
        "\n",
        "#read data\n",
        "\n",
        "data = pd.read_csv(\"/content/Call Center_Restaurant Orders - Copy.csv\")\n",
        "data.head(5)\n"
      ]
    },
    {
      "cell_type": "code",
      "execution_count": 3,
      "metadata": {
        "id": "9D-IAVcMp4qB",
        "colab": {
          "base_uri": "https://localhost:8080/"
        },
        "outputId": "0c3735da-f0fb-4203-c083-48b59abcfab5"
      },
      "outputs": [
        {
          "output_type": "stream",
          "name": "stdout",
          "text": [
            "<class 'pandas.core.frame.DataFrame'>\n",
            "RangeIndex: 72314 entries, 0 to 72313\n",
            "Data columns (total 17 columns):\n",
            " #   Column                             Non-Null Count  Dtype  \n",
            "---  ------                             --------------  -----  \n",
            " 0   Date                               72314 non-null  object \n",
            " 1   Time customer placed order         72314 non-null  object \n",
            " 2   Time order placed at restaurant    72154 non-null  object \n",
            " 3   Time driver arrived at restaurant  54190 non-null  object \n",
            " 4   Delivery time                      72314 non-null  object \n",
            " 5   Driver ID                          72314 non-null  int64  \n",
            " 6   Driver Name                        72314 non-null  object \n",
            " 7   Restaurant ID                      72314 non-null  int64  \n",
            " 8   Customer ID                        72314 non-null  int64  \n",
            " 9   Delivery Area                      72314 non-null  object \n",
            " 10  ASAP                               72314 non-null  object \n",
            " 11  Sub Total                          72314 non-null  float64\n",
            " 12  Delivery fee                       72314 non-null  float64\n",
            " 13  Service fee                        72314 non-null  float64\n",
            " 14  Discount                           72314 non-null  int64  \n",
            " 15  Tip                                72314 non-null  float64\n",
            " 16  Refunded amount                    72314 non-null  float64\n",
            "dtypes: float64(5), int64(4), object(8)\n",
            "memory usage: 9.4+ MB\n"
          ]
        }
      ],
      "source": [
        "#display data types, missing values and features\n",
        "\n",
        "data.info()"
      ]
    },
    {
      "cell_type": "code",
      "source": [
        "#check types of objects for dates\n",
        "\n",
        "print(type(data[\"Date\"][0]))\n",
        "print(type(data[\"Time customer placed order\"][0]))\n",
        "print(type(data[\"Time order placed at restaurant\"][0]))\n",
        "print(type(data[\"Time driver arrived at restaurant\"][0]))\n",
        "print(type(data[\"Delivery time\"][0]))\n",
        "\n"
      ],
      "metadata": {
        "colab": {
          "base_uri": "https://localhost:8080/"
        },
        "id": "568koZBtnCJ9",
        "outputId": "7054472b-25dd-48f9-ef3c-c8b72e0a3e45"
      },
      "execution_count": 4,
      "outputs": [
        {
          "output_type": "stream",
          "name": "stdout",
          "text": [
            "<class 'str'>\n",
            "<class 'str'>\n",
            "<class 'str'>\n",
            "<class 'str'>\n",
            "<class 'str'>\n"
          ]
        }
      ]
    },
    {
      "cell_type": "code",
      "source": [
        "#count of nissing values @Time driver at restuarant\n",
        "\n",
        "data[\"Time driver arrived at restaurant\"].isnull().sum()"
      ],
      "metadata": {
        "colab": {
          "base_uri": "https://localhost:8080/"
        },
        "id": "IEGNdy70lPdf",
        "outputId": "b8630d30-0ec7-46ec-e721-44aa15447533"
      },
      "execution_count": 5,
      "outputs": [
        {
          "output_type": "execute_result",
          "data": {
            "text/plain": [
              "18124"
            ]
          },
          "metadata": {},
          "execution_count": 5
        }
      ]
    },
    {
      "cell_type": "code",
      "execution_count": 6,
      "metadata": {
        "id": "RkUjH_aGE6bS",
        "colab": {
          "base_uri": "https://localhost:8080/"
        },
        "outputId": "18470be3-52d0-4b51-9b1a-54d8eb3ee3eb"
      },
      "outputs": [
        {
          "output_type": "execute_result",
          "data": {
            "text/plain": [
              "(72314, 17)"
            ]
          },
          "metadata": {},
          "execution_count": 6
        }
      ],
      "source": [
        "#Size of data\n",
        "\n",
        "data.shape"
      ]
    },
    {
      "cell_type": "code",
      "execution_count": 7,
      "metadata": {
        "id": "qO0DxLMNFA7S",
        "colab": {
          "base_uri": "https://localhost:8080/"
        },
        "outputId": "3b13855d-3d02-4f43-a59e-d116b7d8abb3"
      },
      "outputs": [
        {
          "output_type": "execute_result",
          "data": {
            "text/plain": [
              "0"
            ]
          },
          "metadata": {},
          "execution_count": 7
        }
      ],
      "source": [
        "#check duplicates\n",
        "\n",
        "data.duplicated().sum()"
      ]
    },
    {
      "cell_type": "markdown",
      "metadata": {
        "id": "amtB2X1IGb9R"
      },
      "source": [
        "###Data types of the following columns need to be changed:\n",
        "** Time customer placed order.\n",
        "** Time order placed at restaurant.\n",
        "** Time driver arrived at restaurant\n",
        "** Delivery time\n",
        "** Date\n",
        "** Driver ID\n",
        "** Restaurant ID\n",
        "** Customer ID\n",
        "\n"
      ]
    },
    {
      "cell_type": "code",
      "execution_count": 8,
      "metadata": {
        "id": "osNr9gK5E5vS"
      },
      "outputs": [],
      "source": [
        "#Convert datetime from string object  to datetime object\n",
        "\n",
        "data[\"Time customer placed order\"] = pd.to_datetime(data[\"Time customer placed order\"],format='%H:%M:%S').dt.time\n",
        "data[\"Time order placed at restaurant\"] = pd.to_datetime(data[\"Time order placed at restaurant\"] , format='%H:%M:%S').dt.time\n",
        "data[\"Time driver arrived at restaurant\"] = pd.to_datetime(data[\"Time driver arrived at restaurant\"], format='%H:%M:%S').dt.time\n",
        "data[\"Delivery time\"] = pd.to_datetime(data[\"Delivery time\"], format='%H:%M:%S').dt.time"
      ]
    },
    {
      "cell_type": "code",
      "execution_count": 9,
      "metadata": {
        "id": "USDYBWOZ9mPo",
        "colab": {
          "base_uri": "https://localhost:8080/"
        },
        "outputId": "a80281df-5e28-4a3a-dde2-5fcbd45a636d"
      },
      "outputs": [
        {
          "output_type": "stream",
          "name": "stderr",
          "text": [
            "<ipython-input-9-98af4b44ad44>:3: UserWarning: Parsing dates in DD/MM/YYYY format when dayfirst=False (the default) was specified. This may lead to inconsistently parsed dates! Specify a format to ensure consistent parsing.\n",
            "  data[\"Date\"] = pd.to_datetime(data[\"Date\"])\n"
          ]
        }
      ],
      "source": [
        "#convert the rest of columns to date & string\n",
        "\n",
        "data[\"Date\"] = pd.to_datetime(data[\"Date\"])\n",
        "data[\"Driver ID\"] = data[\"Driver ID\"].values.astype(str)\n",
        "data[\"Restaurant ID\"] = data[\"Restaurant ID\"].values.astype(str)\n",
        "data[\"Customer ID\"] = data[\"Customer ID\"].values.astype(str)"
      ]
    },
    {
      "cell_type": "code",
      "execution_count": 10,
      "metadata": {
        "id": "vVgsJkcraKWt",
        "colab": {
          "base_uri": "https://localhost:8080/"
        },
        "outputId": "2cbf8c1a-eac3-443c-d0eb-0a8f4d9de4d4"
      },
      "outputs": [
        {
          "output_type": "stream",
          "name": "stdout",
          "text": [
            "<class 'pandas._libs.tslibs.timestamps.Timestamp'>\n",
            "<class 'datetime.time'>\n",
            "<class 'datetime.time'>\n",
            "<class 'datetime.time'>\n",
            "<class 'datetime.time'>\n"
          ]
        }
      ],
      "source": [
        "#check date types after conversion\n",
        "\n",
        "print(type(data[\"Date\"][0]))\n",
        "print(type(data[\"Time customer placed order\"][0]))\n",
        "print(type(data[\"Time order placed at restaurant\"][0]))\n",
        "print(type(data[\"Time driver arrived at restaurant\"][0]))\n",
        "print(type(data[\"Delivery time\"][0]))"
      ]
    },
    {
      "cell_type": "code",
      "source": [
        "#recheck after conversion\n",
        "\n",
        "data.info()"
      ],
      "metadata": {
        "colab": {
          "base_uri": "https://localhost:8080/"
        },
        "id": "CzEI9Pfxp2OT",
        "outputId": "7f0208cf-0f62-43c4-9767-c72ba246f15b"
      },
      "execution_count": 11,
      "outputs": [
        {
          "output_type": "stream",
          "name": "stdout",
          "text": [
            "<class 'pandas.core.frame.DataFrame'>\n",
            "RangeIndex: 72314 entries, 0 to 72313\n",
            "Data columns (total 17 columns):\n",
            " #   Column                             Non-Null Count  Dtype         \n",
            "---  ------                             --------------  -----         \n",
            " 0   Date                               72314 non-null  datetime64[ns]\n",
            " 1   Time customer placed order         72314 non-null  object        \n",
            " 2   Time order placed at restaurant    72154 non-null  object        \n",
            " 3   Time driver arrived at restaurant  54190 non-null  object        \n",
            " 4   Delivery time                      72314 non-null  object        \n",
            " 5   Driver ID                          72314 non-null  object        \n",
            " 6   Driver Name                        72314 non-null  object        \n",
            " 7   Restaurant ID                      72314 non-null  object        \n",
            " 8   Customer ID                        72314 non-null  object        \n",
            " 9   Delivery Area                      72314 non-null  object        \n",
            " 10  ASAP                               72314 non-null  object        \n",
            " 11  Sub Total                          72314 non-null  float64       \n",
            " 12  Delivery fee                       72314 non-null  float64       \n",
            " 13  Service fee                        72314 non-null  float64       \n",
            " 14  Discount                           72314 non-null  int64         \n",
            " 15  Tip                                72314 non-null  float64       \n",
            " 16  Refunded amount                    72314 non-null  float64       \n",
            "dtypes: datetime64[ns](1), float64(5), int64(1), object(10)\n",
            "memory usage: 9.4+ MB\n"
          ]
        }
      ]
    },
    {
      "cell_type": "code",
      "execution_count": 12,
      "metadata": {
        "id": "piV7KdKV_pxF",
        "colab": {
          "base_uri": "https://localhost:8080/"
        },
        "outputId": "5e9eda51-f856-4a7d-8972-3d92d5cf6020"
      },
      "outputs": [
        {
          "output_type": "stream",
          "name": "stdout",
          "text": [
            "2020-12-04 00:00:00\n",
            "2020-01-01 00:00:00\n"
          ]
        }
      ],
      "source": [
        "#duration of data , start date & end date\n",
        "\n",
        "print(data[\"Date\"].max())\n",
        "print(data[\"Date\"].min())"
      ]
    },
    {
      "cell_type": "code",
      "execution_count": 13,
      "metadata": {
        "id": "D0CCjp6lRxhM",
        "colab": {
          "base_uri": "https://localhost:8080/",
          "height": 300
        },
        "outputId": "693ad607-5c9d-420c-8364-70f8db3dfc4d"
      },
      "outputs": [
        {
          "output_type": "execute_result",
          "data": {
            "text/plain": [
              "          Sub Total  Delivery fee   Service fee      Discount           Tip  \\\n",
              "count  72314.000000  72314.000000  72314.000000  72314.000000  72314.000000   \n",
              "mean      93.844955      5.610922      3.474285      3.648726      9.494586   \n",
              "std       95.809156      3.443500      1.388401      6.791021     10.862448   \n",
              "min        0.000000      0.000000      1.000000      0.000000      0.000000   \n",
              "25%       47.420000      2.710000      2.330000      2.000000      3.510000   \n",
              "50%       69.850000      5.400000      3.340000      2.000000      6.610000   \n",
              "75%      106.990000      8.130000      4.520000      3.000000     11.740000   \n",
              "max     3593.410000     13.660000      6.840000    261.000000    469.050000   \n",
              "\n",
              "       Refunded amount  \n",
              "count     72314.000000  \n",
              "mean          0.879774  \n",
              "std           9.708033  \n",
              "min           0.000000  \n",
              "25%           0.000000  \n",
              "50%           0.000000  \n",
              "75%           0.000000  \n",
              "max         940.400000  "
            ],
            "text/html": [
              "\n",
              "  <div id=\"df-8605f5a9-b1d1-4902-b745-36be7be3dffa\">\n",
              "    <div class=\"colab-df-container\">\n",
              "      <div>\n",
              "<style scoped>\n",
              "    .dataframe tbody tr th:only-of-type {\n",
              "        vertical-align: middle;\n",
              "    }\n",
              "\n",
              "    .dataframe tbody tr th {\n",
              "        vertical-align: top;\n",
              "    }\n",
              "\n",
              "    .dataframe thead th {\n",
              "        text-align: right;\n",
              "    }\n",
              "</style>\n",
              "<table border=\"1\" class=\"dataframe\">\n",
              "  <thead>\n",
              "    <tr style=\"text-align: right;\">\n",
              "      <th></th>\n",
              "      <th>Sub Total</th>\n",
              "      <th>Delivery fee</th>\n",
              "      <th>Service fee</th>\n",
              "      <th>Discount</th>\n",
              "      <th>Tip</th>\n",
              "      <th>Refunded amount</th>\n",
              "    </tr>\n",
              "  </thead>\n",
              "  <tbody>\n",
              "    <tr>\n",
              "      <th>count</th>\n",
              "      <td>72314.000000</td>\n",
              "      <td>72314.000000</td>\n",
              "      <td>72314.000000</td>\n",
              "      <td>72314.000000</td>\n",
              "      <td>72314.000000</td>\n",
              "      <td>72314.000000</td>\n",
              "    </tr>\n",
              "    <tr>\n",
              "      <th>mean</th>\n",
              "      <td>93.844955</td>\n",
              "      <td>5.610922</td>\n",
              "      <td>3.474285</td>\n",
              "      <td>3.648726</td>\n",
              "      <td>9.494586</td>\n",
              "      <td>0.879774</td>\n",
              "    </tr>\n",
              "    <tr>\n",
              "      <th>std</th>\n",
              "      <td>95.809156</td>\n",
              "      <td>3.443500</td>\n",
              "      <td>1.388401</td>\n",
              "      <td>6.791021</td>\n",
              "      <td>10.862448</td>\n",
              "      <td>9.708033</td>\n",
              "    </tr>\n",
              "    <tr>\n",
              "      <th>min</th>\n",
              "      <td>0.000000</td>\n",
              "      <td>0.000000</td>\n",
              "      <td>1.000000</td>\n",
              "      <td>0.000000</td>\n",
              "      <td>0.000000</td>\n",
              "      <td>0.000000</td>\n",
              "    </tr>\n",
              "    <tr>\n",
              "      <th>25%</th>\n",
              "      <td>47.420000</td>\n",
              "      <td>2.710000</td>\n",
              "      <td>2.330000</td>\n",
              "      <td>2.000000</td>\n",
              "      <td>3.510000</td>\n",
              "      <td>0.000000</td>\n",
              "    </tr>\n",
              "    <tr>\n",
              "      <th>50%</th>\n",
              "      <td>69.850000</td>\n",
              "      <td>5.400000</td>\n",
              "      <td>3.340000</td>\n",
              "      <td>2.000000</td>\n",
              "      <td>6.610000</td>\n",
              "      <td>0.000000</td>\n",
              "    </tr>\n",
              "    <tr>\n",
              "      <th>75%</th>\n",
              "      <td>106.990000</td>\n",
              "      <td>8.130000</td>\n",
              "      <td>4.520000</td>\n",
              "      <td>3.000000</td>\n",
              "      <td>11.740000</td>\n",
              "      <td>0.000000</td>\n",
              "    </tr>\n",
              "    <tr>\n",
              "      <th>max</th>\n",
              "      <td>3593.410000</td>\n",
              "      <td>13.660000</td>\n",
              "      <td>6.840000</td>\n",
              "      <td>261.000000</td>\n",
              "      <td>469.050000</td>\n",
              "      <td>940.400000</td>\n",
              "    </tr>\n",
              "  </tbody>\n",
              "</table>\n",
              "</div>\n",
              "      <button class=\"colab-df-convert\" onclick=\"convertToInteractive('df-8605f5a9-b1d1-4902-b745-36be7be3dffa')\"\n",
              "              title=\"Convert this dataframe to an interactive table.\"\n",
              "              style=\"display:none;\">\n",
              "        \n",
              "  <svg xmlns=\"http://www.w3.org/2000/svg\" height=\"24px\"viewBox=\"0 0 24 24\"\n",
              "       width=\"24px\">\n",
              "    <path d=\"M0 0h24v24H0V0z\" fill=\"none\"/>\n",
              "    <path d=\"M18.56 5.44l.94 2.06.94-2.06 2.06-.94-2.06-.94-.94-2.06-.94 2.06-2.06.94zm-11 1L8.5 8.5l.94-2.06 2.06-.94-2.06-.94L8.5 2.5l-.94 2.06-2.06.94zm10 10l.94 2.06.94-2.06 2.06-.94-2.06-.94-.94-2.06-.94 2.06-2.06.94z\"/><path d=\"M17.41 7.96l-1.37-1.37c-.4-.4-.92-.59-1.43-.59-.52 0-1.04.2-1.43.59L10.3 9.45l-7.72 7.72c-.78.78-.78 2.05 0 2.83L4 21.41c.39.39.9.59 1.41.59.51 0 1.02-.2 1.41-.59l7.78-7.78 2.81-2.81c.8-.78.8-2.07 0-2.86zM5.41 20L4 18.59l7.72-7.72 1.47 1.35L5.41 20z\"/>\n",
              "  </svg>\n",
              "      </button>\n",
              "      \n",
              "  <style>\n",
              "    .colab-df-container {\n",
              "      display:flex;\n",
              "      flex-wrap:wrap;\n",
              "      gap: 12px;\n",
              "    }\n",
              "\n",
              "    .colab-df-convert {\n",
              "      background-color: #E8F0FE;\n",
              "      border: none;\n",
              "      border-radius: 50%;\n",
              "      cursor: pointer;\n",
              "      display: none;\n",
              "      fill: #1967D2;\n",
              "      height: 32px;\n",
              "      padding: 0 0 0 0;\n",
              "      width: 32px;\n",
              "    }\n",
              "\n",
              "    .colab-df-convert:hover {\n",
              "      background-color: #E2EBFA;\n",
              "      box-shadow: 0px 1px 2px rgba(60, 64, 67, 0.3), 0px 1px 3px 1px rgba(60, 64, 67, 0.15);\n",
              "      fill: #174EA6;\n",
              "    }\n",
              "\n",
              "    [theme=dark] .colab-df-convert {\n",
              "      background-color: #3B4455;\n",
              "      fill: #D2E3FC;\n",
              "    }\n",
              "\n",
              "    [theme=dark] .colab-df-convert:hover {\n",
              "      background-color: #434B5C;\n",
              "      box-shadow: 0px 1px 3px 1px rgba(0, 0, 0, 0.15);\n",
              "      filter: drop-shadow(0px 1px 2px rgba(0, 0, 0, 0.3));\n",
              "      fill: #FFFFFF;\n",
              "    }\n",
              "  </style>\n",
              "\n",
              "      <script>\n",
              "        const buttonEl =\n",
              "          document.querySelector('#df-8605f5a9-b1d1-4902-b745-36be7be3dffa button.colab-df-convert');\n",
              "        buttonEl.style.display =\n",
              "          google.colab.kernel.accessAllowed ? 'block' : 'none';\n",
              "\n",
              "        async function convertToInteractive(key) {\n",
              "          const element = document.querySelector('#df-8605f5a9-b1d1-4902-b745-36be7be3dffa');\n",
              "          const dataTable =\n",
              "            await google.colab.kernel.invokeFunction('convertToInteractive',\n",
              "                                                     [key], {});\n",
              "          if (!dataTable) return;\n",
              "\n",
              "          const docLinkHtml = 'Like what you see? Visit the ' +\n",
              "            '<a target=\"_blank\" href=https://colab.research.google.com/notebooks/data_table.ipynb>data table notebook</a>'\n",
              "            + ' to learn more about interactive tables.';\n",
              "          element.innerHTML = '';\n",
              "          dataTable['output_type'] = 'display_data';\n",
              "          await google.colab.output.renderOutput(dataTable, element);\n",
              "          const docLink = document.createElement('div');\n",
              "          docLink.innerHTML = docLinkHtml;\n",
              "          element.appendChild(docLink);\n",
              "        }\n",
              "      </script>\n",
              "    </div>\n",
              "  </div>\n",
              "  "
            ]
          },
          "metadata": {},
          "execution_count": 13
        }
      ],
      "source": [
        "#5 number summary for numeric data\n",
        "\n",
        "data.describe()"
      ]
    },
    {
      "cell_type": "code",
      "source": [
        "#create new 3 columns after conversion of  time columns to total minutes in order to calculate frequency & diff\n",
        "\n",
        "data[\"Time customer placed order-MIN\"] = data[\"Time customer placed order\"].apply(lambda t: t.hour*60 +t.minute)\n",
        "data[\"Time order placed at restaurant-MIN\"] = data[\"Time order placed at restaurant\"].apply(lambda t: t.hour*60 +t.minute)\n",
        "data[\"Delivery time-MIN\"] = data[\"Delivery time\"].apply(lambda t: t.hour*60 +t.minute)"
      ],
      "metadata": {
        "id": "dlTsF9DXK1hH"
      },
      "execution_count": 14,
      "outputs": []
    },
    {
      "cell_type": "code",
      "execution_count": 15,
      "metadata": {
        "id": "kk6oGHMKejQA",
        "colab": {
          "base_uri": "https://localhost:8080/",
          "height": 280
        },
        "outputId": "1fff543b-1a72-4aa0-8c2d-cae05be63c18"
      },
      "outputs": [
        {
          "output_type": "execute_result",
          "data": {
            "text/plain": [
              "        Date Time customer placed order Time order placed at restaurant  \\\n",
              "0 2020-01-01                   02:52:12                        03:00:25   \n",
              "1 2020-01-01                   15:58:57                        17:56:45   \n",
              "\n",
              "  Time driver arrived at restaurant Delivery time Driver ID Driver Name  \\\n",
              "0                          03:08:09      03:35:20      9329     Christy   \n",
              "1                          18:24:39      18:57:01      9175   Elizabeth   \n",
              "\n",
              "  Restaurant ID Customer ID Delivery Area ASAP  Sub Total  Delivery fee  \\\n",
              "0          7263     1143515       Fremont  Yes      21.39          0.43   \n",
              "1          7247     1136820       Hayward  Yes      99.74          6.05   \n",
              "\n",
              "   Service fee  Discount    Tip  Refunded amount  \\\n",
              "0         3.83         2   1.40              0.0   \n",
              "1         2.30         2  11.03              0.0   \n",
              "\n",
              "   Time customer placed order-MIN  Time order placed at restaurant-MIN  \\\n",
              "0                             172                                180.0   \n",
              "1                             958                               1076.0   \n",
              "\n",
              "   Delivery time-MIN  \n",
              "0                215  \n",
              "1               1137  "
            ],
            "text/html": [
              "\n",
              "  <div id=\"df-53ca13e7-4c39-45e3-a629-0de7b710f78b\">\n",
              "    <div class=\"colab-df-container\">\n",
              "      <div>\n",
              "<style scoped>\n",
              "    .dataframe tbody tr th:only-of-type {\n",
              "        vertical-align: middle;\n",
              "    }\n",
              "\n",
              "    .dataframe tbody tr th {\n",
              "        vertical-align: top;\n",
              "    }\n",
              "\n",
              "    .dataframe thead th {\n",
              "        text-align: right;\n",
              "    }\n",
              "</style>\n",
              "<table border=\"1\" class=\"dataframe\">\n",
              "  <thead>\n",
              "    <tr style=\"text-align: right;\">\n",
              "      <th></th>\n",
              "      <th>Date</th>\n",
              "      <th>Time customer placed order</th>\n",
              "      <th>Time order placed at restaurant</th>\n",
              "      <th>Time driver arrived at restaurant</th>\n",
              "      <th>Delivery time</th>\n",
              "      <th>Driver ID</th>\n",
              "      <th>Driver Name</th>\n",
              "      <th>Restaurant ID</th>\n",
              "      <th>Customer ID</th>\n",
              "      <th>Delivery Area</th>\n",
              "      <th>ASAP</th>\n",
              "      <th>Sub Total</th>\n",
              "      <th>Delivery fee</th>\n",
              "      <th>Service fee</th>\n",
              "      <th>Discount</th>\n",
              "      <th>Tip</th>\n",
              "      <th>Refunded amount</th>\n",
              "      <th>Time customer placed order-MIN</th>\n",
              "      <th>Time order placed at restaurant-MIN</th>\n",
              "      <th>Delivery time-MIN</th>\n",
              "    </tr>\n",
              "  </thead>\n",
              "  <tbody>\n",
              "    <tr>\n",
              "      <th>0</th>\n",
              "      <td>2020-01-01</td>\n",
              "      <td>02:52:12</td>\n",
              "      <td>03:00:25</td>\n",
              "      <td>03:08:09</td>\n",
              "      <td>03:35:20</td>\n",
              "      <td>9329</td>\n",
              "      <td>Christy</td>\n",
              "      <td>7263</td>\n",
              "      <td>1143515</td>\n",
              "      <td>Fremont</td>\n",
              "      <td>Yes</td>\n",
              "      <td>21.39</td>\n",
              "      <td>0.43</td>\n",
              "      <td>3.83</td>\n",
              "      <td>2</td>\n",
              "      <td>1.40</td>\n",
              "      <td>0.0</td>\n",
              "      <td>172</td>\n",
              "      <td>180.0</td>\n",
              "      <td>215</td>\n",
              "    </tr>\n",
              "    <tr>\n",
              "      <th>1</th>\n",
              "      <td>2020-01-01</td>\n",
              "      <td>15:58:57</td>\n",
              "      <td>17:56:45</td>\n",
              "      <td>18:24:39</td>\n",
              "      <td>18:57:01</td>\n",
              "      <td>9175</td>\n",
              "      <td>Elizabeth</td>\n",
              "      <td>7247</td>\n",
              "      <td>1136820</td>\n",
              "      <td>Hayward</td>\n",
              "      <td>Yes</td>\n",
              "      <td>99.74</td>\n",
              "      <td>6.05</td>\n",
              "      <td>2.30</td>\n",
              "      <td>2</td>\n",
              "      <td>11.03</td>\n",
              "      <td>0.0</td>\n",
              "      <td>958</td>\n",
              "      <td>1076.0</td>\n",
              "      <td>1137</td>\n",
              "    </tr>\n",
              "  </tbody>\n",
              "</table>\n",
              "</div>\n",
              "      <button class=\"colab-df-convert\" onclick=\"convertToInteractive('df-53ca13e7-4c39-45e3-a629-0de7b710f78b')\"\n",
              "              title=\"Convert this dataframe to an interactive table.\"\n",
              "              style=\"display:none;\">\n",
              "        \n",
              "  <svg xmlns=\"http://www.w3.org/2000/svg\" height=\"24px\"viewBox=\"0 0 24 24\"\n",
              "       width=\"24px\">\n",
              "    <path d=\"M0 0h24v24H0V0z\" fill=\"none\"/>\n",
              "    <path d=\"M18.56 5.44l.94 2.06.94-2.06 2.06-.94-2.06-.94-.94-2.06-.94 2.06-2.06.94zm-11 1L8.5 8.5l.94-2.06 2.06-.94-2.06-.94L8.5 2.5l-.94 2.06-2.06.94zm10 10l.94 2.06.94-2.06 2.06-.94-2.06-.94-.94-2.06-.94 2.06-2.06.94z\"/><path d=\"M17.41 7.96l-1.37-1.37c-.4-.4-.92-.59-1.43-.59-.52 0-1.04.2-1.43.59L10.3 9.45l-7.72 7.72c-.78.78-.78 2.05 0 2.83L4 21.41c.39.39.9.59 1.41.59.51 0 1.02-.2 1.41-.59l7.78-7.78 2.81-2.81c.8-.78.8-2.07 0-2.86zM5.41 20L4 18.59l7.72-7.72 1.47 1.35L5.41 20z\"/>\n",
              "  </svg>\n",
              "      </button>\n",
              "      \n",
              "  <style>\n",
              "    .colab-df-container {\n",
              "      display:flex;\n",
              "      flex-wrap:wrap;\n",
              "      gap: 12px;\n",
              "    }\n",
              "\n",
              "    .colab-df-convert {\n",
              "      background-color: #E8F0FE;\n",
              "      border: none;\n",
              "      border-radius: 50%;\n",
              "      cursor: pointer;\n",
              "      display: none;\n",
              "      fill: #1967D2;\n",
              "      height: 32px;\n",
              "      padding: 0 0 0 0;\n",
              "      width: 32px;\n",
              "    }\n",
              "\n",
              "    .colab-df-convert:hover {\n",
              "      background-color: #E2EBFA;\n",
              "      box-shadow: 0px 1px 2px rgba(60, 64, 67, 0.3), 0px 1px 3px 1px rgba(60, 64, 67, 0.15);\n",
              "      fill: #174EA6;\n",
              "    }\n",
              "\n",
              "    [theme=dark] .colab-df-convert {\n",
              "      background-color: #3B4455;\n",
              "      fill: #D2E3FC;\n",
              "    }\n",
              "\n",
              "    [theme=dark] .colab-df-convert:hover {\n",
              "      background-color: #434B5C;\n",
              "      box-shadow: 0px 1px 3px 1px rgba(0, 0, 0, 0.15);\n",
              "      filter: drop-shadow(0px 1px 2px rgba(0, 0, 0, 0.3));\n",
              "      fill: #FFFFFF;\n",
              "    }\n",
              "  </style>\n",
              "\n",
              "      <script>\n",
              "        const buttonEl =\n",
              "          document.querySelector('#df-53ca13e7-4c39-45e3-a629-0de7b710f78b button.colab-df-convert');\n",
              "        buttonEl.style.display =\n",
              "          google.colab.kernel.accessAllowed ? 'block' : 'none';\n",
              "\n",
              "        async function convertToInteractive(key) {\n",
              "          const element = document.querySelector('#df-53ca13e7-4c39-45e3-a629-0de7b710f78b');\n",
              "          const dataTable =\n",
              "            await google.colab.kernel.invokeFunction('convertToInteractive',\n",
              "                                                     [key], {});\n",
              "          if (!dataTable) return;\n",
              "\n",
              "          const docLinkHtml = 'Like what you see? Visit the ' +\n",
              "            '<a target=\"_blank\" href=https://colab.research.google.com/notebooks/data_table.ipynb>data table notebook</a>'\n",
              "            + ' to learn more about interactive tables.';\n",
              "          element.innerHTML = '';\n",
              "          dataTable['output_type'] = 'display_data';\n",
              "          await google.colab.output.renderOutput(dataTable, element);\n",
              "          const docLink = document.createElement('div');\n",
              "          docLink.innerHTML = docLinkHtml;\n",
              "          element.appendChild(docLink);\n",
              "        }\n",
              "      </script>\n",
              "    </div>\n",
              "  </div>\n",
              "  "
            ]
          },
          "metadata": {},
          "execution_count": 15
        }
      ],
      "source": [
        "#data after adding new columns\n",
        "\n",
        "data.head(2)"
      ]
    },
    {
      "cell_type": "code",
      "source": [
        "#plot histogram of \"Time customer placed order-MIN\" to determine the peak ordering time\n",
        "\n",
        "\"\"\"\n",
        "\n",
        "X- Axis represent total minutes of order time thats mean :\n",
        "\n",
        "200 ------ 3:20 AM\n",
        "400 ------ 6:40 AM\n",
        "600 ------ 10:00 AM\n",
        "800 ------ 13:20 AM\n",
        "1400 ------ 24:00 AM\n",
        "\n",
        "\n",
        "\"\"\"\n",
        "\n",
        "\n",
        "plt.hist(data[\"Time customer placed order-MIN\"], color = \"#7AC5CD\", ec=\"#53868B\")\n",
        "plt.xlabel(\"Total minutes\")\n",
        "plt.ylabel(\"Frequency\")\n",
        "plt.title(\"Customer placed order Time Distribution\")\n",
        "plt.show()"
      ],
      "metadata": {
        "colab": {
          "base_uri": "https://localhost:8080/",
          "height": 472
        },
        "id": "dIfxLnKo8Dcn",
        "outputId": "509a6106-e516-4eb7-aa42-7fe8d78f910e"
      },
      "execution_count": 16,
      "outputs": [
        {
          "output_type": "display_data",
          "data": {
            "text/plain": [
              "<Figure size 640x480 with 1 Axes>"
            ],
            "image/png": "[encoded data removed]"
          },
          "metadata": {}
        }
      ]
    },
    {
      "cell_type": "code",
      "source": [
        "#plot histogram of \"Time order placed at restaurant-MIN\" to determine the peak ordering time\n",
        "\n",
        "plt.hist(data[\"Time order placed at restaurant-MIN\"], color = \"#7AC5CD\", ec=\"#53868B\" )\n",
        "plt.xticks(rotation = 45)\n",
        "plt.xlabel(\"Total minutes\")\n",
        "plt.ylabel(\"Frequency\")\n",
        "plt.title(\"Time order placed at rest.  Distribution\")\n",
        "plt.show()"
      ],
      "metadata": {
        "colab": {
          "base_uri": "https://localhost:8080/",
          "height": 492
        },
        "id": "Z9LoZhYzAJg3",
        "outputId": "3ff14278-5402-434d-d1ab-fbc009e4e4c8"
      },
      "execution_count": 17,
      "outputs": [
        {
          "output_type": "display_data",
          "data": {
            "text/plain": [
              "<Figure size 640x480 with 1 Axes>"
            ],
            "image/png": "[encoded data removed]"
          },
          "metadata": {}
        }
      ]
    },
    {
      "cell_type": "markdown",
      "source": [
        "\n",
        "<a id='FIV'></a>\n",
        "##Answer of Question 5\n",
        "\n",
        "###The peak ordering time is approximately between 12 AM to 3 AM"
      ],
      "metadata": {
        "id": "gV5Ta8H8_mPe"
      }
    },
    {
      "cell_type": "code",
      "source": [
        "#count of drivers\n",
        "\n",
        "data[\"Driver Name\"].nunique()"
      ],
      "metadata": {
        "colab": {
          "base_uri": "https://localhost:8080/"
        },
        "id": "lyZLHWoqASMe",
        "outputId": "ed17fe98-08ec-451c-9e9b-0def1396fa28"
      },
      "execution_count": 18,
      "outputs": [
        {
          "output_type": "execute_result",
          "data": {
            "text/plain": [
              "432"
            ]
          },
          "metadata": {},
          "execution_count": 18
        }
      ]
    },
    {
      "cell_type": "code",
      "source": [
        "#value counts of DRIVERS to discover if there are Drivers delivered more than their colleagues\n",
        "\n",
        "data[\"Driver Name\"].value_counts()"
      ],
      "metadata": {
        "colab": {
          "base_uri": "https://localhost:8080/"
        },
        "id": "AusP4sByrIdT",
        "outputId": "cb4530e5-6747-44de-a8bf-286d00380393"
      },
      "execution_count": 19,
      "outputs": [
        {
          "output_type": "execute_result",
          "data": {
            "text/plain": [
              "Doris       244\n",
              "Bailey      244\n",
              "Erin        240\n",
              "Chelsea     240\n",
              "Patricia    240\n",
              "           ... \n",
              "Monique     108\n",
              "Kellie      108\n",
              "Michael     104\n",
              "Kathy       104\n",
              "Andrea       84\n",
              "Name: Driver Name, Length: 432, dtype: int64"
            ]
          },
          "metadata": {},
          "execution_count": 19
        }
      ]
    },
    {
      "cell_type": "code",
      "source": [
        "#count of resturants\n",
        "\n",
        "data[\"Restaurant ID\"].nunique()\n"
      ],
      "metadata": {
        "colab": {
          "base_uri": "https://localhost:8080/"
        },
        "id": "bfQ2Bd3LCdou",
        "outputId": "acce7953-d263-4e84-a097-34a0a0f5c18a"
      },
      "execution_count": 20,
      "outputs": [
        {
          "output_type": "execute_result",
          "data": {
            "text/plain": [
              "408"
            ]
          },
          "metadata": {},
          "execution_count": 20
        }
      ]
    },
    {
      "cell_type": "code",
      "source": [
        "#value counts of resturants to discover if there are top restaurants\n",
        "\n",
        "data[\"Restaurant ID\"].value_counts()\n",
        "\n"
      ],
      "metadata": {
        "colab": {
          "base_uri": "https://localhost:8080/"
        },
        "id": "NYrSmAszEEVe",
        "outputId": "9206c3e7-5aee-47ad-9f15-0d6bb1ed9326"
      },
      "execution_count": 21,
      "outputs": [
        {
          "output_type": "execute_result",
          "data": {
            "text/plain": [
              "7320    256\n",
              "7123    252\n",
              "7213    244\n",
              "7113    244\n",
              "7247    240\n",
              "       ... \n",
              "7092    112\n",
              "7193    108\n",
              "7259    104\n",
              "7322    100\n",
              "7228     96\n",
              "Name: Restaurant ID, Length: 408, dtype: int64"
            ]
          },
          "metadata": {},
          "execution_count": 21
        }
      ]
    },
    {
      "cell_type": "markdown",
      "source": [
        "###Insignificant // data shows similar records for all resturants & drivers\n",
        "\n",
        "there is no Top restaurants or drivers  but  we can classify them into 3 classes  A B C as follwing [ <120 , <180 , <250 ]"
      ],
      "metadata": {
        "id": "SYzqb8pAHTV0"
      }
    },
    {
      "cell_type": "code",
      "source": [
        "#Count of customers\n",
        "\n",
        "data[\"Customer ID\"].nunique()"
      ],
      "metadata": {
        "colab": {
          "base_uri": "https://localhost:8080/"
        },
        "id": "7CuI2rL3GZ89",
        "outputId": "703d34a8-134a-40b7-da93-294ec766019c"
      },
      "execution_count": 22,
      "outputs": [
        {
          "output_type": "execute_result",
          "data": {
            "text/plain": [
              "6262"
            ]
          },
          "metadata": {},
          "execution_count": 22
        }
      ]
    },
    {
      "cell_type": "code",
      "source": [
        "#groub by customers by sub total  to discover if there are top customers who orderd the most\n",
        "\n",
        "customers = data.groupby([\"Customer ID\"])[\"Sub Total\"].sum(0)\n",
        "customers\n"
      ],
      "metadata": {
        "colab": {
          "base_uri": "https://localhost:8080/"
        },
        "id": "9S7U8YS6GSAM",
        "outputId": "91c510fc-b671-4152-9fb4-35fdac77a7c2"
      },
      "execution_count": 23,
      "outputs": [
        {
          "output_type": "execute_result",
          "data": {
            "text/plain": [
              "Customer ID\n",
              "1000052    1397.36\n",
              "1000067     840.78\n",
              "1000107     296.79\n",
              "1000127    1476.88\n",
              "1000220    2010.55\n",
              "            ...   \n",
              "1200279     283.74\n",
              "1200280     659.50\n",
              "1200282    1844.90\n",
              "1200353     289.20\n",
              "1200360    1227.29\n",
              "Name: Sub Total, Length: 6262, dtype: float64"
            ]
          },
          "metadata": {},
          "execution_count": 23
        }
      ]
    },
    {
      "cell_type": "code",
      "source": [
        "#creat customer dataframe\n",
        "\n",
        "customers = pd.DataFrame(customers)\n",
        "customers\n"
      ],
      "metadata": {
        "colab": {
          "base_uri": "https://localhost:8080/",
          "height": 455
        },
        "id": "0VCf6xG6UaIY",
        "outputId": "f0f4362a-3440-4269-bfcb-d0f461dfd6e3"
      },
      "execution_count": 24,
      "outputs": [
        {
          "output_type": "execute_result",
          "data": {
            "text/plain": [
              "             Sub Total\n",
              "Customer ID           \n",
              "1000052        1397.36\n",
              "1000067         840.78\n",
              "1000107         296.79\n",
              "1000127        1476.88\n",
              "1000220        2010.55\n",
              "...                ...\n",
              "1200279         283.74\n",
              "1200280         659.50\n",
              "1200282        1844.90\n",
              "1200353         289.20\n",
              "1200360        1227.29\n",
              "\n",
              "[6262 rows x 1 columns]"
            ],
            "text/html": [
              "\n",
              "  <div id=\"df-307f66b4-967f-47c2-abdd-502479d8e766\">\n",
              "    <div class=\"colab-df-container\">\n",
              "      <div>\n",
              "<style scoped>\n",
              "    .dataframe tbody tr th:only-of-type {\n",
              "        vertical-align: middle;\n",
              "    }\n",
              "\n",
              "    .dataframe tbody tr th {\n",
              "        vertical-align: top;\n",
              "    }\n",
              "\n",
              "    .dataframe thead th {\n",
              "        text-align: right;\n",
              "    }\n",
              "</style>\n",
              "<table border=\"1\" class=\"dataframe\">\n",
              "  <thead>\n",
              "    <tr style=\"text-align: right;\">\n",
              "      <th></th>\n",
              "      <th>Sub Total</th>\n",
              "    </tr>\n",
              "    <tr>\n",
              "      <th>Customer ID</th>\n",
              "      <th></th>\n",
              "    </tr>\n",
              "  </thead>\n",
              "  <tbody>\n",
              "    <tr>\n",
              "      <th>1000052</th>\n",
              "      <td>1397.36</td>\n",
              "    </tr>\n",
              "    <tr>\n",
              "      <th>1000067</th>\n",
              "      <td>840.78</td>\n",
              "    </tr>\n",
              "    <tr>\n",
              "      <th>1000107</th>\n",
              "      <td>296.79</td>\n",
              "    </tr>\n",
              "    <tr>\n",
              "      <th>1000127</th>\n",
              "      <td>1476.88</td>\n",
              "    </tr>\n",
              "    <tr>\n",
              "      <th>1000220</th>\n",
              "      <td>2010.55</td>\n",
              "    </tr>\n",
              "    <tr>\n",
              "      <th>...</th>\n",
              "      <td>...</td>\n",
              "    </tr>\n",
              "    <tr>\n",
              "      <th>1200279</th>\n",
              "      <td>283.74</td>\n",
              "    </tr>\n",
              "    <tr>\n",
              "      <th>1200280</th>\n",
              "      <td>659.50</td>\n",
              "    </tr>\n",
              "    <tr>\n",
              "      <th>1200282</th>\n",
              "      <td>1844.90</td>\n",
              "    </tr>\n",
              "    <tr>\n",
              "      <th>1200353</th>\n",
              "      <td>289.20</td>\n",
              "    </tr>\n",
              "    <tr>\n",
              "      <th>1200360</th>\n",
              "      <td>1227.29</td>\n",
              "    </tr>\n",
              "  </tbody>\n",
              "</table>\n",
              "<p>6262 rows × 1 columns</p>\n",
              "</div>\n",
              "      <button class=\"colab-df-convert\" onclick=\"convertToInteractive('df-307f66b4-967f-47c2-abdd-502479d8e766')\"\n",
              "              title=\"Convert this dataframe to an interactive table.\"\n",
              "              style=\"display:none;\">\n",
              "        \n",
              "  <svg xmlns=\"http://www.w3.org/2000/svg\" height=\"24px\"viewBox=\"0 0 24 24\"\n",
              "       width=\"24px\">\n",
              "    <path d=\"M0 0h24v24H0V0z\" fill=\"none\"/>\n",
              "    <path d=\"M18.56 5.44l.94 2.06.94-2.06 2.06-.94-2.06-.94-.94-2.06-.94 2.06-2.06.94zm-11 1L8.5 8.5l.94-2.06 2.06-.94-2.06-.94L8.5 2.5l-.94 2.06-2.06.94zm10 10l.94 2.06.94-2.06 2.06-.94-2.06-.94-.94-2.06-.94 2.06-2.06.94z\"/><path d=\"M17.41 7.96l-1.37-1.37c-.4-.4-.92-.59-1.43-.59-.52 0-1.04.2-1.43.59L10.3 9.45l-7.72 7.72c-.78.78-.78 2.05 0 2.83L4 21.41c.39.39.9.59 1.41.59.51 0 1.02-.2 1.41-.59l7.78-7.78 2.81-2.81c.8-.78.8-2.07 0-2.86zM5.41 20L4 18.59l7.72-7.72 1.47 1.35L5.41 20z\"/>\n",
              "  </svg>\n",
              "      </button>\n",
              "      \n",
              "  <style>\n",
              "    .colab-df-container {\n",
              "      display:flex;\n",
              "      flex-wrap:wrap;\n",
              "      gap: 12px;\n",
              "    }\n",
              "\n",
              "    .colab-df-convert {\n",
              "      background-color: #E8F0FE;\n",
              "      border: none;\n",
              "      border-radius: 50%;\n",
              "      cursor: pointer;\n",
              "      display: none;\n",
              "      fill: #1967D2;\n",
              "      height: 32px;\n",
              "      padding: 0 0 0 0;\n",
              "      width: 32px;\n",
              "    }\n",
              "\n",
              "    .colab-df-convert:hover {\n",
              "      background-color: #E2EBFA;\n",
              "      box-shadow: 0px 1px 2px rgba(60, 64, 67, 0.3), 0px 1px 3px 1px rgba(60, 64, 67, 0.15);\n",
              "      fill: #174EA6;\n",
              "    }\n",
              "\n",
              "    [theme=dark] .colab-df-convert {\n",
              "      background-color: #3B4455;\n",
              "      fill: #D2E3FC;\n",
              "    }\n",
              "\n",
              "    [theme=dark] .colab-df-convert:hover {\n",
              "      background-color: #434B5C;\n",
              "      box-shadow: 0px 1px 3px 1px rgba(0, 0, 0, 0.15);\n",
              "      filter: drop-shadow(0px 1px 2px rgba(0, 0, 0, 0.3));\n",
              "      fill: #FFFFFF;\n",
              "    }\n",
              "  </style>\n",
              "\n",
              "      <script>\n",
              "        const buttonEl =\n",
              "          document.querySelector('#df-307f66b4-967f-47c2-abdd-502479d8e766 button.colab-df-convert');\n",
              "        buttonEl.style.display =\n",
              "          google.colab.kernel.accessAllowed ? 'block' : 'none';\n",
              "\n",
              "        async function convertToInteractive(key) {\n",
              "          const element = document.querySelector('#df-307f66b4-967f-47c2-abdd-502479d8e766');\n",
              "          const dataTable =\n",
              "            await google.colab.kernel.invokeFunction('convertToInteractive',\n",
              "                                                     [key], {});\n",
              "          if (!dataTable) return;\n",
              "\n",
              "          const docLinkHtml = 'Like what you see? Visit the ' +\n",
              "            '<a target=\"_blank\" href=https://colab.research.google.com/notebooks/data_table.ipynb>data table notebook</a>'\n",
              "            + ' to learn more about interactive tables.';\n",
              "          element.innerHTML = '';\n",
              "          dataTable['output_type'] = 'display_data';\n",
              "          await google.colab.output.renderOutput(dataTable, element);\n",
              "          const docLink = document.createElement('div');\n",
              "          docLink.innerHTML = docLinkHtml;\n",
              "          element.appendChild(docLink);\n",
              "        }\n",
              "      </script>\n",
              "    </div>\n",
              "  </div>\n",
              "  "
            ]
          },
          "metadata": {},
          "execution_count": 24
        }
      ]
    },
    {
      "cell_type": "code",
      "source": [
        "#discover 5 number summary to determine top values of sub total\n",
        "\n",
        "customers.describe()"
      ],
      "metadata": {
        "colab": {
          "base_uri": "https://localhost:8080/",
          "height": 300
        },
        "id": "2QA8Unj6awrG",
        "outputId": "bd18e070-1e50-49d7-f903-95d0696ad9a3"
      },
      "execution_count": 25,
      "outputs": [
        {
          "output_type": "execute_result",
          "data": {
            "text/plain": [
              "         Sub Total\n",
              "count  6262.000000\n",
              "mean   1083.727890\n",
              "std     662.091969\n",
              "min     137.320000\n",
              "25%     587.622500\n",
              "50%     963.100000\n",
              "75%    1438.225000\n",
              "max    5709.640000"
            ],
            "text/html": [
              "\n",
              "  <div id=\"df-89f9c917-e217-4f95-9122-fd0076860777\">\n",
              "    <div class=\"colab-df-container\">\n",
              "      <div>\n",
              "<style scoped>\n",
              "    .dataframe tbody tr th:only-of-type {\n",
              "        vertical-align: middle;\n",
              "    }\n",
              "\n",
              "    .dataframe tbody tr th {\n",
              "        vertical-align: top;\n",
              "    }\n",
              "\n",
              "    .dataframe thead th {\n",
              "        text-align: right;\n",
              "    }\n",
              "</style>\n",
              "<table border=\"1\" class=\"dataframe\">\n",
              "  <thead>\n",
              "    <tr style=\"text-align: right;\">\n",
              "      <th></th>\n",
              "      <th>Sub Total</th>\n",
              "    </tr>\n",
              "  </thead>\n",
              "  <tbody>\n",
              "    <tr>\n",
              "      <th>count</th>\n",
              "      <td>6262.000000</td>\n",
              "    </tr>\n",
              "    <tr>\n",
              "      <th>mean</th>\n",
              "      <td>1083.727890</td>\n",
              "    </tr>\n",
              "    <tr>\n",
              "      <th>std</th>\n",
              "      <td>662.091969</td>\n",
              "    </tr>\n",
              "    <tr>\n",
              "      <th>min</th>\n",
              "      <td>137.320000</td>\n",
              "    </tr>\n",
              "    <tr>\n",
              "      <th>25%</th>\n",
              "      <td>587.622500</td>\n",
              "    </tr>\n",
              "    <tr>\n",
              "      <th>50%</th>\n",
              "      <td>963.100000</td>\n",
              "    </tr>\n",
              "    <tr>\n",
              "      <th>75%</th>\n",
              "      <td>1438.225000</td>\n",
              "    </tr>\n",
              "    <tr>\n",
              "      <th>max</th>\n",
              "      <td>5709.640000</td>\n",
              "    </tr>\n",
              "  </tbody>\n",
              "</table>\n",
              "</div>\n",
              "      <button class=\"colab-df-convert\" onclick=\"convertToInteractive('df-89f9c917-e217-4f95-9122-fd0076860777')\"\n",
              "              title=\"Convert this dataframe to an interactive table.\"\n",
              "              style=\"display:none;\">\n",
              "        \n",
              "  <svg xmlns=\"http://www.w3.org/2000/svg\" height=\"24px\"viewBox=\"0 0 24 24\"\n",
              "       width=\"24px\">\n",
              "    <path d=\"M0 0h24v24H0V0z\" fill=\"none\"/>\n",
              "    <path d=\"M18.56 5.44l.94 2.06.94-2.06 2.06-.94-2.06-.94-.94-2.06-.94 2.06-2.06.94zm-11 1L8.5 8.5l.94-2.06 2.06-.94-2.06-.94L8.5 2.5l-.94 2.06-2.06.94zm10 10l.94 2.06.94-2.06 2.06-.94-2.06-.94-.94-2.06-.94 2.06-2.06.94z\"/><path d=\"M17.41 7.96l-1.37-1.37c-.4-.4-.92-.59-1.43-.59-.52 0-1.04.2-1.43.59L10.3 9.45l-7.72 7.72c-.78.78-.78 2.05 0 2.83L4 21.41c.39.39.9.59 1.41.59.51 0 1.02-.2 1.41-.59l7.78-7.78 2.81-2.81c.8-.78.8-2.07 0-2.86zM5.41 20L4 18.59l7.72-7.72 1.47 1.35L5.41 20z\"/>\n",
              "  </svg>\n",
              "      </button>\n",
              "      \n",
              "  <style>\n",
              "    .colab-df-container {\n",
              "      display:flex;\n",
              "      flex-wrap:wrap;\n",
              "      gap: 12px;\n",
              "    }\n",
              "\n",
              "    .colab-df-convert {\n",
              "      background-color: #E8F0FE;\n",
              "      border: none;\n",
              "      border-radius: 50%;\n",
              "      cursor: pointer;\n",
              "      display: none;\n",
              "      fill: #1967D2;\n",
              "      height: 32px;\n",
              "      padding: 0 0 0 0;\n",
              "      width: 32px;\n",
              "    }\n",
              "\n",
              "    .colab-df-convert:hover {\n",
              "      background-color: #E2EBFA;\n",
              "      box-shadow: 0px 1px 2px rgba(60, 64, 67, 0.3), 0px 1px 3px 1px rgba(60, 64, 67, 0.15);\n",
              "      fill: #174EA6;\n",
              "    }\n",
              "\n",
              "    [theme=dark] .colab-df-convert {\n",
              "      background-color: #3B4455;\n",
              "      fill: #D2E3FC;\n",
              "    }\n",
              "\n",
              "    [theme=dark] .colab-df-convert:hover {\n",
              "      background-color: #434B5C;\n",
              "      box-shadow: 0px 1px 3px 1px rgba(0, 0, 0, 0.15);\n",
              "      filter: drop-shadow(0px 1px 2px rgba(0, 0, 0, 0.3));\n",
              "      fill: #FFFFFF;\n",
              "    }\n",
              "  </style>\n",
              "\n",
              "      <script>\n",
              "        const buttonEl =\n",
              "          document.querySelector('#df-89f9c917-e217-4f95-9122-fd0076860777 button.colab-df-convert');\n",
              "        buttonEl.style.display =\n",
              "          google.colab.kernel.accessAllowed ? 'block' : 'none';\n",
              "\n",
              "        async function convertToInteractive(key) {\n",
              "          const element = document.querySelector('#df-89f9c917-e217-4f95-9122-fd0076860777');\n",
              "          const dataTable =\n",
              "            await google.colab.kernel.invokeFunction('convertToInteractive',\n",
              "                                                     [key], {});\n",
              "          if (!dataTable) return;\n",
              "\n",
              "          const docLinkHtml = 'Like what you see? Visit the ' +\n",
              "            '<a target=\"_blank\" href=https://colab.research.google.com/notebooks/data_table.ipynb>data table notebook</a>'\n",
              "            + ' to learn more about interactive tables.';\n",
              "          element.innerHTML = '';\n",
              "          dataTable['output_type'] = 'display_data';\n",
              "          await google.colab.output.renderOutput(dataTable, element);\n",
              "          const docLink = document.createElement('div');\n",
              "          docLink.innerHTML = docLinkHtml;\n",
              "          element.appendChild(docLink);\n",
              "        }\n",
              "      </script>\n",
              "    </div>\n",
              "  </div>\n",
              "  "
            ]
          },
          "metadata": {},
          "execution_count": 25
        }
      ]
    },
    {
      "cell_type": "markdown",
      "source": [
        "###found that max value of sub total is 5709 , so top customers will be greater than 5000 , we can find greater range than who exceed 5000 , lets see above 3000\n"
      ],
      "metadata": {
        "id": "K92a5BO0bAh9"
      }
    },
    {
      "cell_type": "code",
      "source": [
        "\n",
        "top_customersA = customers[customers[\"Sub Total\"] > 5000]\n",
        "top_customersB = customers[(customers[\"Sub Total\"] > 4000 ) & (customers[\"Sub Total\"] < 5000) ]\n",
        "top_customersC = customers[(customers[\"Sub Total\"] > 3000 ) & (customers[\"Sub Total\"] < 4000) ]\n",
        "\n",
        "print(top_customersA);\n",
        "print(top_customersB);\n",
        "print(top_customersC);"
      ],
      "metadata": {
        "colab": {
          "base_uri": "https://localhost:8080/"
        },
        "id": "Uxz3loW2Vn_4",
        "outputId": "9469ecdf-bcb9-4843-8aa3-ed318d8505cf"
      },
      "execution_count": 26,
      "outputs": [
        {
          "output_type": "stream",
          "name": "stdout",
          "text": [
            "             Sub Total\n",
            "Customer ID           \n",
            "1059088        5493.73\n",
            "1077359        5709.64\n",
            "1078645        5110.21\n",
            "1148787        5169.75\n",
            "             Sub Total\n",
            "Customer ID           \n",
            "1005835        4468.84\n",
            "1028300        4349.62\n",
            "1028752        4119.48\n",
            "1080979        4890.97\n",
            "1097734        4144.81\n",
            "1112405        4503.94\n",
            "1171486        4140.14\n",
            "1172573        4733.70\n",
            "             Sub Total\n",
            "Customer ID           \n",
            "1000392        3037.46\n",
            "1005635        3161.02\n",
            "1005771        3298.79\n",
            "1006722        3185.47\n",
            "1007000        3492.17\n",
            "...                ...\n",
            "1187602        3008.67\n",
            "1190942        3099.02\n",
            "1193926        3113.05\n",
            "1194120        3173.55\n",
            "1196811        3111.65\n",
            "\n",
            "[72 rows x 1 columns]\n"
          ]
        }
      ]
    },
    {
      "cell_type": "markdown",
      "source": [
        "###Top_clients\n",
        "\n",
        "#1059088    --    5493.73\n",
        "#1077359    --    5709.64\n",
        "#1078645    --    5110.21\n",
        "#1148787    --    5169.75\n",
        "\n",
        "### Class A = 4 Clients > 5000\n",
        "### Class B = 8 Clients > 4000 & < 5000\n",
        "### Class C = 72 Clients > 3000 & < 4000"
      ],
      "metadata": {
        "id": "x0DhYUZmbgTN"
      }
    },
    {
      "cell_type": "code",
      "source": [
        "top_customersB = customers[(customers[\"Sub Total\"] > 4000 ) & (customers[\"Sub Total\"] < 5000) ]"
      ],
      "metadata": {
        "id": "k76U7F2-ZJ0-"
      },
      "execution_count": 27,
      "outputs": []
    },
    {
      "cell_type": "code",
      "source": [
        "\n",
        "#count of delivery areas\n",
        "\n",
        "data[\"Delivery Area\"].nunique()"
      ],
      "metadata": {
        "colab": {
          "base_uri": "https://localhost:8080/"
        },
        "id": "NAn4YuH3HFmU",
        "outputId": "d6368de4-0ab1-4314-d5ae-f590ed5a138f"
      },
      "execution_count": 28,
      "outputs": [
        {
          "output_type": "execute_result",
          "data": {
            "text/plain": [
              "3"
            ]
          },
          "metadata": {},
          "execution_count": 28
        }
      ]
    },
    {
      "cell_type": "code",
      "source": [
        "#count of orders per each areas to discover top area\n",
        "data[\"Delivery Area\"].value_counts()"
      ],
      "metadata": {
        "colab": {
          "base_uri": "https://localhost:8080/"
        },
        "id": "RrxhXZxWHLEF",
        "outputId": "7ad4dc2c-36a9-4052-dab2-4d562a8c9d5f"
      },
      "execution_count": 29,
      "outputs": [
        {
          "output_type": "execute_result",
          "data": {
            "text/plain": [
              "Fremont       24229\n",
              "Hayward       24085\n",
              "Union City    24000\n",
              "Name: Delivery Area, dtype: int64"
            ]
          },
          "metadata": {},
          "execution_count": 29
        }
      ]
    },
    {
      "cell_type": "code",
      "source": [
        "'''\n",
        "   Creat a function that takes dataframe and column and return histogram\n",
        "    df = dataframe\n",
        "    column : column\n",
        "'''\n",
        "\n",
        "\n",
        "def hist(df , column):\n",
        "  plt.hist(df[column], color = \"#7AC5CD\", ec=\"#53868B\" )\n",
        "  plt.xticks(rotation = 45)\n",
        "  plt.ylabel(\"Frequency\")\n",
        "\n",
        "  return plt.show()\n",
        "\n",
        "\n"
      ],
      "metadata": {
        "id": "jhrvc3pmCm0d"
      },
      "execution_count": 30,
      "outputs": []
    },
    {
      "cell_type": "code",
      "source": [
        "hist(data,\"Delivery Area\")\n"
      ],
      "metadata": {
        "colab": {
          "base_uri": "https://localhost:8080/",
          "height": 476
        },
        "id": "zHb0paHEDcBg",
        "outputId": "2d03a62c-e043-4440-9bf4-262f4df998f6"
      },
      "execution_count": 31,
      "outputs": [
        {
          "output_type": "display_data",
          "data": {
            "text/plain": [
              "<Figure size 640x480 with 1 Axes>"
            ],
            "image/png": "[encoded data removed]"
          },
          "metadata": {}
        }
      ]
    },
    {
      "cell_type": "markdown",
      "source": [
        "###Insignificant // data shows similar records for all areas"
      ],
      "metadata": {
        "id": "d__J3lLncxXN"
      }
    },
    {
      "cell_type": "code",
      "source": [
        "Revenue = data[\"Sub Total\"].sum()\n",
        "print(f\" sub_total is {Revenue}\")"
      ],
      "metadata": {
        "colab": {
          "base_uri": "https://localhost:8080/"
        },
        "id": "H0s-wdK1kvNk",
        "outputId": "0acebf7c-9b47-49ab-e700-1834a11d285f"
      },
      "execution_count": 32,
      "outputs": [
        {
          "output_type": "stream",
          "name": "stdout",
          "text": [
            " sub_total is 6786304.05\n"
          ]
        }
      ]
    },
    {
      "cell_type": "code",
      "source": [
        "\n",
        "#sub_total\n",
        "#five number summary\n",
        "\n",
        "print(data[\"Sub Total\"].describe())\n",
        "Revenue = round(data[\"Sub Total\"].sum())\n",
        "\n",
        "#----------------------------------------------------------------\n",
        "#delivery fees\n",
        "#five number summary\n",
        "\n",
        "print(data[\"Delivery fee\"].describe())\n",
        "Total_Delivery_fee =round(data[\"Delivery fee\"].sum())\n",
        "\n",
        "#----------------------------------------------------------------\n",
        "#service fees\n",
        "#five number summary\n",
        "#total\n",
        "print(data[\"Service fee\"].describe())\n",
        "Total_Service_fee = round(data[\"Service fee\"].sum())\n",
        "\n",
        "#-------------------------------------------------------------------\n",
        "\n",
        "\n",
        "print(f\"Revenue : {Revenue}\")\n",
        "print(f\"Total_Service_fee : {Total_Service_fee}\")\n",
        "print(f\"Total_Delivery_fee : {Total_Delivery_fee}\")\n",
        "\n",
        "\n",
        "# %of delivery fees\n",
        "\n",
        "delivery_fees_percent = round((data[\"Delivery fee\"].sum()/data[\"Sub Total\"].sum())*100 , 1)\n",
        "print(f\"delivery_fees_percent% : {delivery_fees_percent} %.\")\n",
        "\n",
        "\n",
        "# % of service fees\n",
        "service_fees_percent = round((data[\"Service fee\"].sum()/data[\"Sub Total\"].sum())*100 , 1)\n",
        "print(f\"service_fees_percent% : {service_fees_percent} %.\")"
      ],
      "metadata": {
        "colab": {
          "base_uri": "https://localhost:8080/"
        },
        "id": "LKKig4z-dN8v",
        "outputId": "33d0b17d-da75-4052-fa8c-27ebb3c952a4"
      },
      "execution_count": 33,
      "outputs": [
        {
          "output_type": "stream",
          "name": "stdout",
          "text": [
            "count    72314.000000\n",
            "mean        93.844955\n",
            "std         95.809156\n",
            "min          0.000000\n",
            "25%         47.420000\n",
            "50%         69.850000\n",
            "75%        106.990000\n",
            "max       3593.410000\n",
            "Name: Sub Total, dtype: float64\n",
            "count    72314.000000\n",
            "mean         5.610922\n",
            "std          3.443500\n",
            "min          0.000000\n",
            "25%          2.710000\n",
            "50%          5.400000\n",
            "75%          8.130000\n",
            "max         13.660000\n",
            "Name: Delivery fee, dtype: float64\n",
            "count    72314.000000\n",
            "mean         3.474285\n",
            "std          1.388401\n",
            "min          1.000000\n",
            "25%          2.330000\n",
            "50%          3.340000\n",
            "75%          4.520000\n",
            "max          6.840000\n",
            "Name: Service fee, dtype: float64\n",
            "Revenue : 6786304\n",
            "Total_Service_fee : 251239\n",
            "Total_Delivery_fee : 405748\n",
            "delivery_fees_percent% : 6.0 %.\n",
            "service_fees_percent% : 3.7 %.\n"
          ]
        }
      ]
    },
    {
      "cell_type": "markdown",
      "source": [
        "#Revenue & service fee & delivery fee and their percentage\n",
        "\n",
        "######Revenue : 6.7 Million dollars\n",
        "######Total_Service_fee : 251239\n",
        "######Total_Delivery_fee : 405748\n",
        "######Delivery_fees_percent% : 6.0 %.\n",
        "######Service_fees_percent% : 3.7 %."
      ],
      "metadata": {
        "id": "nG1dIc6Wsj5T"
      }
    },
    {
      "cell_type": "code",
      "source": [
        "#discount\n",
        "\n",
        "Discount = data[\"Discount\"].sum()\n",
        "Discount_percent = round(Discount/Revenue*100 , 1)\n",
        "\n",
        "print(f\" Discount  : {Discount_percent} %\")"
      ],
      "metadata": {
        "colab": {
          "base_uri": "https://localhost:8080/"
        },
        "id": "eiCW9F_2pWID",
        "outputId": "fc01a93b-db19-4355-8143-1aaea897b846"
      },
      "execution_count": 34,
      "outputs": [
        {
          "output_type": "stream",
          "name": "stdout",
          "text": [
            " Discount  : 3.9 %\n"
          ]
        }
      ]
    },
    {
      "cell_type": "code",
      "source": [
        "#tips\n",
        "\n",
        "data[\"Tip\"].describe()"
      ],
      "metadata": {
        "colab": {
          "base_uri": "https://localhost:8080/"
        },
        "id": "UDmejZIMc-fu",
        "outputId": "24d93bf0-3c55-4b5b-ed4e-79153e22ecfd"
      },
      "execution_count": 35,
      "outputs": [
        {
          "output_type": "execute_result",
          "data": {
            "text/plain": [
              "count    72314.000000\n",
              "mean         9.494586\n",
              "std         10.862448\n",
              "min          0.000000\n",
              "25%          3.510000\n",
              "50%          6.610000\n",
              "75%         11.740000\n",
              "max        469.050000\n",
              "Name: Tip, dtype: float64"
            ]
          },
          "metadata": {},
          "execution_count": 35
        }
      ]
    },
    {
      "cell_type": "code",
      "source": [
        "#count of orders that delivered witout tips\n",
        "\n",
        "Orders_delivered_without_tips = data[data[\"Tip\"]== 0]\n",
        "\n",
        "print(Orders_delivered_without_tips[\"Tip\"].count())\n",
        "\n",
        "x = round(Orders_delivered_without_tips[\"Tip\"].count()/72314 , 3)*100\n",
        "\n",
        "\n",
        "print(f\"perecent of orders delivered without tips : {x}  %\")"
      ],
      "metadata": {
        "colab": {
          "base_uri": "https://localhost:8080/"
        },
        "id": "9QH0FXgfxMBY",
        "outputId": "e542e154-35e6-44d7-d5fe-1add86fa9254"
      },
      "execution_count": 36,
      "outputs": [
        {
          "output_type": "stream",
          "name": "stdout",
          "text": [
            "2745\n",
            "perecent of orders delivered without tips : 3.8  %\n"
          ]
        }
      ]
    },
    {
      "cell_type": "code",
      "source": [
        "#count of Drivers who were not received tips\n",
        "\n",
        "Driver_with_0_tips =  data.groupby([\"Driver ID\"])[\"Tip\"].sum(0)\n",
        "Driver_with_0_tips= pd.DataFrame(Driver_with_0_tips)\n",
        "\n",
        "Driver_with_0_tips.min()\n"
      ],
      "metadata": {
        "colab": {
          "base_uri": "https://localhost:8080/"
        },
        "id": "06BzDMHBt15Z",
        "outputId": "b6ab144d-ed92-4db5-bcdd-9807721f031e"
      },
      "execution_count": 37,
      "outputs": [
        {
          "output_type": "execute_result",
          "data": {
            "text/plain": [
              "Tip    859.59\n",
              "dtype: float64"
            ]
          },
          "metadata": {},
          "execution_count": 37
        }
      ]
    },
    {
      "cell_type": "markdown",
      "source": [
        "###There was no drivers  receive 0 tips as total and minimum total 860 usd"
      ],
      "metadata": {
        "id": "UzpOgA-Ow8X4"
      }
    },
    {
      "cell_type": "code",
      "execution_count": 38,
      "metadata": {
        "id": "YahrzLdceo-4",
        "colab": {
          "base_uri": "https://localhost:8080/"
        },
        "outputId": "32ba105d-13c0-44b0-a48a-e5f380c87eb7"
      },
      "outputs": [
        {
          "output_type": "stream",
          "name": "stdout",
          "text": [
            "count    72314.000000\n",
            "mean         9.494586\n",
            "std         10.862448\n",
            "min          0.000000\n",
            "25%          3.510000\n",
            "50%          6.610000\n",
            "75%         11.740000\n",
            "max        469.050000\n",
            "Name: Tip, dtype: float64\n"
          ]
        },
        {
          "output_type": "execute_result",
          "data": {
            "text/plain": [
              "686591.49"
            ]
          },
          "metadata": {},
          "execution_count": 38
        }
      ],
      "source": [
        "#tips\n",
        "#display 5 number summary of tips\n",
        "#calculate total tips\n",
        "#calculate average of tips per order\n",
        "#calculate average of tips per driver\n",
        "\n",
        "\n",
        "print(data[\"Tip\"].describe())\n",
        "Total_tips = data[\"Tip\"].sum()\n",
        "Total_tips\n"
      ]
    },
    {
      "cell_type": "code",
      "source": [
        "Average_Tips_Per_driver = round(Total_tips/432)\n",
        "\n",
        "Average_Tips_Per_driver"
      ],
      "metadata": {
        "colab": {
          "base_uri": "https://localhost:8080/"
        },
        "id": "J0CwmCRaYOD1",
        "outputId": "dd2d23f8-2b71-4854-edbd-f658e055047b"
      },
      "execution_count": 39,
      "outputs": [
        {
          "output_type": "execute_result",
          "data": {
            "text/plain": [
              "1589"
            ]
          },
          "metadata": {},
          "execution_count": 39
        }
      ]
    },
    {
      "cell_type": "markdown",
      "source": [
        "<a id='FOU'></a>\n",
        "\n",
        "#####As shown above: the range of tips is wide, so I will use median i/o mean due to avoid the effect of outliers & non-logical data\n",
        "\n",
        "#Answer of Question 4\n",
        "\n",
        "* Average of Tips per order = 6.61\n",
        "* Average of total Tips per driver = 1589"
      ],
      "metadata": {
        "id": "OL8f_ptlXUl0"
      }
    },
    {
      "cell_type": "code",
      "source": [],
      "metadata": {
        "id": "0S0ME7bKWjzu"
      },
      "execution_count": 39,
      "outputs": []
    },
    {
      "cell_type": "code",
      "execution_count": 40,
      "metadata": {
        "id": "JLQxi8FzjwXn",
        "colab": {
          "base_uri": "https://localhost:8080/"
        },
        "outputId": "4fdba2bc-9198-4e28-edf9-7775bf9f4ef8"
      },
      "outputs": [
        {
          "output_type": "stream",
          "name": "stdout",
          "text": [
            "<class 'pandas.core.frame.DataFrame'>\n",
            "DatetimeIndex: 112 entries, 2020-01-01 to 2020-12-04\n",
            "Data columns (total 1 columns):\n",
            " #   Column       Non-Null Count  Dtype\n",
            "---  ------       --------------  -----\n",
            " 0   Customer ID  112 non-null    int64\n",
            "dtypes: int64(1)\n",
            "memory usage: 1.8 KB\n"
          ]
        }
      ],
      "source": [
        "#grouping data by weekday to know which day has more orders\n",
        "\n",
        "date_data = data.groupby('Date')[[\"Customer ID\"]].count()\n",
        "date_data.info()"
      ]
    },
    {
      "cell_type": "code",
      "execution_count": 41,
      "metadata": {
        "id": "1PHf3cnWiybZ",
        "colab": {
          "base_uri": "https://localhost:8080/",
          "height": 175
        },
        "outputId": "f87b6268-ba05-4d45-cd3a-a28c85b40b6c"
      },
      "outputs": [
        {
          "output_type": "execute_result",
          "data": {
            "text/plain": [
              "            Customer ID        day\n",
              "Date                              \n",
              "2020-01-01         1209  Wednesday\n",
              "2020-01-02          615   Thursday\n",
              "2020-01-03          615     Friday"
            ],
            "text/html": [
              "\n",
              "  <div id=\"df-109656a3-8092-430a-b177-12144e9889b0\">\n",
              "    <div class=\"colab-df-container\">\n",
              "      <div>\n",
              "<style scoped>\n",
              "    .dataframe tbody tr th:only-of-type {\n",
              "        vertical-align: middle;\n",
              "    }\n",
              "\n",
              "    .dataframe tbody tr th {\n",
              "        vertical-align: top;\n",
              "    }\n",
              "\n",
              "    .dataframe thead th {\n",
              "        text-align: right;\n",
              "    }\n",
              "</style>\n",
              "<table border=\"1\" class=\"dataframe\">\n",
              "  <thead>\n",
              "    <tr style=\"text-align: right;\">\n",
              "      <th></th>\n",
              "      <th>Customer ID</th>\n",
              "      <th>day</th>\n",
              "    </tr>\n",
              "    <tr>\n",
              "      <th>Date</th>\n",
              "      <th></th>\n",
              "      <th></th>\n",
              "    </tr>\n",
              "  </thead>\n",
              "  <tbody>\n",
              "    <tr>\n",
              "      <th>2020-01-01</th>\n",
              "      <td>1209</td>\n",
              "      <td>Wednesday</td>\n",
              "    </tr>\n",
              "    <tr>\n",
              "      <th>2020-01-02</th>\n",
              "      <td>615</td>\n",
              "      <td>Thursday</td>\n",
              "    </tr>\n",
              "    <tr>\n",
              "      <th>2020-01-03</th>\n",
              "      <td>615</td>\n",
              "      <td>Friday</td>\n",
              "    </tr>\n",
              "  </tbody>\n",
              "</table>\n",
              "</div>\n",
              "      <button class=\"colab-df-convert\" onclick=\"convertToInteractive('df-109656a3-8092-430a-b177-12144e9889b0')\"\n",
              "              title=\"Convert this dataframe to an interactive table.\"\n",
              "              style=\"display:none;\">\n",
              "        \n",
              "  <svg xmlns=\"http://www.w3.org/2000/svg\" height=\"24px\"viewBox=\"0 0 24 24\"\n",
              "       width=\"24px\">\n",
              "    <path d=\"M0 0h24v24H0V0z\" fill=\"none\"/>\n",
              "    <path d=\"M18.56 5.44l.94 2.06.94-2.06 2.06-.94-2.06-.94-.94-2.06-.94 2.06-2.06.94zm-11 1L8.5 8.5l.94-2.06 2.06-.94-2.06-.94L8.5 2.5l-.94 2.06-2.06.94zm10 10l.94 2.06.94-2.06 2.06-.94-2.06-.94-.94-2.06-.94 2.06-2.06.94z\"/><path d=\"M17.41 7.96l-1.37-1.37c-.4-.4-.92-.59-1.43-.59-.52 0-1.04.2-1.43.59L10.3 9.45l-7.72 7.72c-.78.78-.78 2.05 0 2.83L4 21.41c.39.39.9.59 1.41.59.51 0 1.02-.2 1.41-.59l7.78-7.78 2.81-2.81c.8-.78.8-2.07 0-2.86zM5.41 20L4 18.59l7.72-7.72 1.47 1.35L5.41 20z\"/>\n",
              "  </svg>\n",
              "      </button>\n",
              "      \n",
              "  <style>\n",
              "    .colab-df-container {\n",
              "      display:flex;\n",
              "      flex-wrap:wrap;\n",
              "      gap: 12px;\n",
              "    }\n",
              "\n",
              "    .colab-df-convert {\n",
              "      background-color: #E8F0FE;\n",
              "      border: none;\n",
              "      border-radius: 50%;\n",
              "      cursor: pointer;\n",
              "      display: none;\n",
              "      fill: #1967D2;\n",
              "      height: 32px;\n",
              "      padding: 0 0 0 0;\n",
              "      width: 32px;\n",
              "    }\n",
              "\n",
              "    .colab-df-convert:hover {\n",
              "      background-color: #E2EBFA;\n",
              "      box-shadow: 0px 1px 2px rgba(60, 64, 67, 0.3), 0px 1px 3px 1px rgba(60, 64, 67, 0.15);\n",
              "      fill: #174EA6;\n",
              "    }\n",
              "\n",
              "    [theme=dark] .colab-df-convert {\n",
              "      background-color: #3B4455;\n",
              "      fill: #D2E3FC;\n",
              "    }\n",
              "\n",
              "    [theme=dark] .colab-df-convert:hover {\n",
              "      background-color: #434B5C;\n",
              "      box-shadow: 0px 1px 3px 1px rgba(0, 0, 0, 0.15);\n",
              "      filter: drop-shadow(0px 1px 2px rgba(0, 0, 0, 0.3));\n",
              "      fill: #FFFFFF;\n",
              "    }\n",
              "  </style>\n",
              "\n",
              "      <script>\n",
              "        const buttonEl =\n",
              "          document.querySelector('#df-109656a3-8092-430a-b177-12144e9889b0 button.colab-df-convert');\n",
              "        buttonEl.style.display =\n",
              "          google.colab.kernel.accessAllowed ? 'block' : 'none';\n",
              "\n",
              "        async function convertToInteractive(key) {\n",
              "          const element = document.querySelector('#df-109656a3-8092-430a-b177-12144e9889b0');\n",
              "          const dataTable =\n",
              "            await google.colab.kernel.invokeFunction('convertToInteractive',\n",
              "                                                     [key], {});\n",
              "          if (!dataTable) return;\n",
              "\n",
              "          const docLinkHtml = 'Like what you see? Visit the ' +\n",
              "            '<a target=\"_blank\" href=https://colab.research.google.com/notebooks/data_table.ipynb>data table notebook</a>'\n",
              "            + ' to learn more about interactive tables.';\n",
              "          element.innerHTML = '';\n",
              "          dataTable['output_type'] = 'display_data';\n",
              "          await google.colab.output.renderOutput(dataTable, element);\n",
              "          const docLink = document.createElement('div');\n",
              "          docLink.innerHTML = docLinkHtml;\n",
              "          element.appendChild(docLink);\n",
              "        }\n",
              "      </script>\n",
              "    </div>\n",
              "  </div>\n",
              "  "
            ]
          },
          "metadata": {},
          "execution_count": 41
        }
      ],
      "source": [
        "#add new column \"day\" represent weekday name\n",
        "date_data[\"day\"] = date_data.index.day_name()\n",
        "date_data.head(3)"
      ]
    },
    {
      "cell_type": "code",
      "execution_count": 42,
      "metadata": {
        "id": "tGh7or6LloQg",
        "colab": {
          "base_uri": "https://localhost:8080/",
          "height": 300
        },
        "outputId": "2171c095-000d-4b6e-9e12-8204b282fdd0"
      },
      "outputs": [
        {
          "output_type": "execute_result",
          "data": {
            "text/plain": [
              "           Customer ID\n",
              "day                   \n",
              "Friday            9151\n",
              "Monday           10101\n",
              "Saturday         10870\n",
              "Sunday           10102\n",
              "Thursday         10243\n",
              "Tuesday          10343\n",
              "Wednesday        11504"
            ],
            "text/html": [
              "\n",
              "  <div id=\"df-bd572b1a-fda1-4c31-bd21-e8232e174e3b\">\n",
              "    <div class=\"colab-df-container\">\n",
              "      <div>\n",
              "<style scoped>\n",
              "    .dataframe tbody tr th:only-of-type {\n",
              "        vertical-align: middle;\n",
              "    }\n",
              "\n",
              "    .dataframe tbody tr th {\n",
              "        vertical-align: top;\n",
              "    }\n",
              "\n",
              "    .dataframe thead th {\n",
              "        text-align: right;\n",
              "    }\n",
              "</style>\n",
              "<table border=\"1\" class=\"dataframe\">\n",
              "  <thead>\n",
              "    <tr style=\"text-align: right;\">\n",
              "      <th></th>\n",
              "      <th>Customer ID</th>\n",
              "    </tr>\n",
              "    <tr>\n",
              "      <th>day</th>\n",
              "      <th></th>\n",
              "    </tr>\n",
              "  </thead>\n",
              "  <tbody>\n",
              "    <tr>\n",
              "      <th>Friday</th>\n",
              "      <td>9151</td>\n",
              "    </tr>\n",
              "    <tr>\n",
              "      <th>Monday</th>\n",
              "      <td>10101</td>\n",
              "    </tr>\n",
              "    <tr>\n",
              "      <th>Saturday</th>\n",
              "      <td>10870</td>\n",
              "    </tr>\n",
              "    <tr>\n",
              "      <th>Sunday</th>\n",
              "      <td>10102</td>\n",
              "    </tr>\n",
              "    <tr>\n",
              "      <th>Thursday</th>\n",
              "      <td>10243</td>\n",
              "    </tr>\n",
              "    <tr>\n",
              "      <th>Tuesday</th>\n",
              "      <td>10343</td>\n",
              "    </tr>\n",
              "    <tr>\n",
              "      <th>Wednesday</th>\n",
              "      <td>11504</td>\n",
              "    </tr>\n",
              "  </tbody>\n",
              "</table>\n",
              "</div>\n",
              "      <button class=\"colab-df-convert\" onclick=\"convertToInteractive('df-bd572b1a-fda1-4c31-bd21-e8232e174e3b')\"\n",
              "              title=\"Convert this dataframe to an interactive table.\"\n",
              "              style=\"display:none;\">\n",
              "        \n",
              "  <svg xmlns=\"http://www.w3.org/2000/svg\" height=\"24px\"viewBox=\"0 0 24 24\"\n",
              "       width=\"24px\">\n",
              "    <path d=\"M0 0h24v24H0V0z\" fill=\"none\"/>\n",
              "    <path d=\"M18.56 5.44l.94 2.06.94-2.06 2.06-.94-2.06-.94-.94-2.06-.94 2.06-2.06.94zm-11 1L8.5 8.5l.94-2.06 2.06-.94-2.06-.94L8.5 2.5l-.94 2.06-2.06.94zm10 10l.94 2.06.94-2.06 2.06-.94-2.06-.94-.94-2.06-.94 2.06-2.06.94z\"/><path d=\"M17.41 7.96l-1.37-1.37c-.4-.4-.92-.59-1.43-.59-.52 0-1.04.2-1.43.59L10.3 9.45l-7.72 7.72c-.78.78-.78 2.05 0 2.83L4 21.41c.39.39.9.59 1.41.59.51 0 1.02-.2 1.41-.59l7.78-7.78 2.81-2.81c.8-.78.8-2.07 0-2.86zM5.41 20L4 18.59l7.72-7.72 1.47 1.35L5.41 20z\"/>\n",
              "  </svg>\n",
              "      </button>\n",
              "      \n",
              "  <style>\n",
              "    .colab-df-container {\n",
              "      display:flex;\n",
              "      flex-wrap:wrap;\n",
              "      gap: 12px;\n",
              "    }\n",
              "\n",
              "    .colab-df-convert {\n",
              "      background-color: #E8F0FE;\n",
              "      border: none;\n",
              "      border-radius: 50%;\n",
              "      cursor: pointer;\n",
              "      display: none;\n",
              "      fill: #1967D2;\n",
              "      height: 32px;\n",
              "      padding: 0 0 0 0;\n",
              "      width: 32px;\n",
              "    }\n",
              "\n",
              "    .colab-df-convert:hover {\n",
              "      background-color: #E2EBFA;\n",
              "      box-shadow: 0px 1px 2px rgba(60, 64, 67, 0.3), 0px 1px 3px 1px rgba(60, 64, 67, 0.15);\n",
              "      fill: #174EA6;\n",
              "    }\n",
              "\n",
              "    [theme=dark] .colab-df-convert {\n",
              "      background-color: #3B4455;\n",
              "      fill: #D2E3FC;\n",
              "    }\n",
              "\n",
              "    [theme=dark] .colab-df-convert:hover {\n",
              "      background-color: #434B5C;\n",
              "      box-shadow: 0px 1px 3px 1px rgba(0, 0, 0, 0.15);\n",
              "      filter: drop-shadow(0px 1px 2px rgba(0, 0, 0, 0.3));\n",
              "      fill: #FFFFFF;\n",
              "    }\n",
              "  </style>\n",
              "\n",
              "      <script>\n",
              "        const buttonEl =\n",
              "          document.querySelector('#df-bd572b1a-fda1-4c31-bd21-e8232e174e3b button.colab-df-convert');\n",
              "        buttonEl.style.display =\n",
              "          google.colab.kernel.accessAllowed ? 'block' : 'none';\n",
              "\n",
              "        async function convertToInteractive(key) {\n",
              "          const element = document.querySelector('#df-bd572b1a-fda1-4c31-bd21-e8232e174e3b');\n",
              "          const dataTable =\n",
              "            await google.colab.kernel.invokeFunction('convertToInteractive',\n",
              "                                                     [key], {});\n",
              "          if (!dataTable) return;\n",
              "\n",
              "          const docLinkHtml = 'Like what you see? Visit the ' +\n",
              "            '<a target=\"_blank\" href=https://colab.research.google.com/notebooks/data_table.ipynb>data table notebook</a>'\n",
              "            + ' to learn more about interactive tables.';\n",
              "          element.innerHTML = '';\n",
              "          dataTable['output_type'] = 'display_data';\n",
              "          await google.colab.output.renderOutput(dataTable, element);\n",
              "          const docLink = document.createElement('div');\n",
              "          docLink.innerHTML = docLinkHtml;\n",
              "          element.appendChild(docLink);\n",
              "        }\n",
              "      </script>\n",
              "    </div>\n",
              "  </div>\n",
              "  "
            ]
          },
          "metadata": {},
          "execution_count": 42
        }
      ],
      "source": [
        "#show how many orders placed  per week day\n",
        "\n",
        "date_data.groupby(\"day\").sum()"
      ]
    },
    {
      "cell_type": "code",
      "execution_count": 43,
      "metadata": {
        "id": "1EfPGFCG36F5",
        "colab": {
          "base_uri": "https://localhost:8080/",
          "height": 430
        },
        "outputId": "370ac0c5-c07a-4478-c682-9f35ae91b268"
      },
      "outputs": [
        {
          "output_type": "display_data",
          "data": {
            "text/plain": [
              "<Figure size 640x480 with 1 Axes>"
            ],
            "image/png": "[encoded data removed]"
          },
          "metadata": {}
        }
      ],
      "source": [
        "#plot histogram\n",
        "plt.hist(date_data[\"day\"], color = \"#7AC5CD\", ec=\"#53868B\")\n",
        "plt.show()"
      ]
    },
    {
      "cell_type": "markdown",
      "source": [
        "#Insignficant result ,, all days are mostly equals each other while Wednesday is slightly greater"
      ],
      "metadata": {
        "id": "fabuBWOw_3PT"
      }
    },
    {
      "cell_type": "code",
      "execution_count": 44,
      "metadata": {
        "id": "-uYP3Yh-ftCI"
      },
      "outputs": [],
      "source": [
        "#create new column for refunded and completed orders and name it \"Refunded_Completed\"\n",
        "#first making copy of \"Refunded amount\" column then replace 0.0 values with \"completed\" and the rest with \"Refunded\"\n",
        "\n",
        "data[\"Refunded_Completed\"] = data[\"Refunded amount\"]\n",
        "data[\"Refunded_Completed\"] = data[\"Refunded_Completed\"].replace([0.0], 'Completed')\n",
        "data.loc[(data.Refunded_Completed != \"Completed\") , \"Refunded_Completed\" ] = \"Refunded\"\n"
      ]
    },
    {
      "cell_type": "markdown",
      "source": [],
      "metadata": {
        "id": "X8anh9sS0O-n"
      }
    },
    {
      "cell_type": "code",
      "execution_count": 45,
      "metadata": {
        "id": "PqY2upjMudbj",
        "colab": {
          "base_uri": "https://localhost:8080/"
        },
        "outputId": "3b69d3e8-efc8-477f-83da-d928db9c3365"
      },
      "outputs": [
        {
          "output_type": "execute_result",
          "data": {
            "text/plain": [
              "Completed    70330\n",
              "Refunded      1984\n",
              "Name: Refunded_Completed, dtype: int64"
            ]
          },
          "metadata": {},
          "execution_count": 45
        }
      ],
      "source": [
        "data[\"Refunded_Completed\"].value_counts()"
      ]
    },
    {
      "cell_type": "code",
      "execution_count": 46,
      "metadata": {
        "id": "AJgs6i69vPvb",
        "colab": {
          "base_uri": "https://localhost:8080/"
        },
        "outputId": "ae76322a-6b09-420c-e83d-6b7945286de4"
      },
      "outputs": [
        {
          "output_type": "stream",
          "name": "stdout",
          "text": [
            "Completion_rate : 97.3 % \n"
          ]
        }
      ],
      "source": [
        "#completion rate\n",
        "\n",
        "Completion_rate = round(70330/(70330+1984)*100, 1)\n",
        "\n",
        "print ( f\"Completion_rate : {Completion_rate} % \")"
      ]
    },
    {
      "cell_type": "code",
      "execution_count": 47,
      "metadata": {
        "id": "iGWJMhV1v9K7",
        "colab": {
          "base_uri": "https://localhost:8080/",
          "height": 423
        },
        "outputId": "47b5debb-230f-4dd6-9ab0-e644ae164426"
      },
      "outputs": [
        {
          "output_type": "execute_result",
          "data": {
            "text/plain": [
              "<Axes: >"
            ]
          },
          "metadata": {},
          "execution_count": 47
        },
        {
          "output_type": "display_data",
          "data": {
            "text/plain": [
              "<Figure size 640x480 with 1 Axes>"
            ],
            "image/png": "[encoded data removed]"
          },
          "metadata": {}
        }
      ],
      "source": [
        "#plot completed vs refunded\n",
        "\n",
        "data.groupby('Refunded_Completed').size().plot(kind='pie', autopct='%.2f', colors = [\"#7AC5CD\" , \"#53868B\"])\n"
      ]
    },
    {
      "cell_type": "markdown",
      "source": [
        "<a id='THR'></a>\n",
        "\n",
        "#Answer of Question 3\n",
        "\n",
        "##order_Completion_rate : 97.3 %"
      ],
      "metadata": {
        "id": "DpltETxnPmug"
      }
    },
    {
      "cell_type": "code",
      "source": [
        "#display the first row after adding \"completed_refunded\" column\n",
        "\n",
        "data.head(1)"
      ],
      "metadata": {
        "id": "JK8fewi7LF5o",
        "colab": {
          "base_uri": "https://localhost:8080/",
          "height": 261
        },
        "outputId": "50555280-b8f1-4ccf-fca3-4555d78b975a"
      },
      "execution_count": 48,
      "outputs": [
        {
          "output_type": "execute_result",
          "data": {
            "text/plain": [
              "        Date Time customer placed order Time order placed at restaurant  \\\n",
              "0 2020-01-01                   02:52:12                        03:00:25   \n",
              "\n",
              "  Time driver arrived at restaurant Delivery time Driver ID Driver Name  \\\n",
              "0                          03:08:09      03:35:20      9329     Christy   \n",
              "\n",
              "  Restaurant ID Customer ID Delivery Area  ... Sub Total  Delivery fee  \\\n",
              "0          7263     1143515       Fremont  ...     21.39          0.43   \n",
              "\n",
              "   Service fee  Discount  Tip  Refunded amount  \\\n",
              "0         3.83         2  1.4              0.0   \n",
              "\n",
              "   Time customer placed order-MIN  Time order placed at restaurant-MIN  \\\n",
              "0                             172                                180.0   \n",
              "\n",
              "   Delivery time-MIN  Refunded_Completed  \n",
              "0                215           Completed  \n",
              "\n",
              "[1 rows x 21 columns]"
            ],
            "text/html": [
              "\n",
              "  <div id=\"df-7073b854-c1c7-4331-a051-705ae706a67f\">\n",
              "    <div class=\"colab-df-container\">\n",
              "      <div>\n",
              "<style scoped>\n",
              "    .dataframe tbody tr th:only-of-type {\n",
              "        vertical-align: middle;\n",
              "    }\n",
              "\n",
              "    .dataframe tbody tr th {\n",
              "        vertical-align: top;\n",
              "    }\n",
              "\n",
              "    .dataframe thead th {\n",
              "        text-align: right;\n",
              "    }\n",
              "</style>\n",
              "<table border=\"1\" class=\"dataframe\">\n",
              "  <thead>\n",
              "    <tr style=\"text-align: right;\">\n",
              "      <th></th>\n",
              "      <th>Date</th>\n",
              "      <th>Time customer placed order</th>\n",
              "      <th>Time order placed at restaurant</th>\n",
              "      <th>Time driver arrived at restaurant</th>\n",
              "      <th>Delivery time</th>\n",
              "      <th>Driver ID</th>\n",
              "      <th>Driver Name</th>\n",
              "      <th>Restaurant ID</th>\n",
              "      <th>Customer ID</th>\n",
              "      <th>Delivery Area</th>\n",
              "      <th>...</th>\n",
              "      <th>Sub Total</th>\n",
              "      <th>Delivery fee</th>\n",
              "      <th>Service fee</th>\n",
              "      <th>Discount</th>\n",
              "      <th>Tip</th>\n",
              "      <th>Refunded amount</th>\n",
              "      <th>Time customer placed order-MIN</th>\n",
              "      <th>Time order placed at restaurant-MIN</th>\n",
              "      <th>Delivery time-MIN</th>\n",
              "      <th>Refunded_Completed</th>\n",
              "    </tr>\n",
              "  </thead>\n",
              "  <tbody>\n",
              "    <tr>\n",
              "      <th>0</th>\n",
              "      <td>2020-01-01</td>\n",
              "      <td>02:52:12</td>\n",
              "      <td>03:00:25</td>\n",
              "      <td>03:08:09</td>\n",
              "      <td>03:35:20</td>\n",
              "      <td>9329</td>\n",
              "      <td>Christy</td>\n",
              "      <td>7263</td>\n",
              "      <td>1143515</td>\n",
              "      <td>Fremont</td>\n",
              "      <td>...</td>\n",
              "      <td>21.39</td>\n",
              "      <td>0.43</td>\n",
              "      <td>3.83</td>\n",
              "      <td>2</td>\n",
              "      <td>1.4</td>\n",
              "      <td>0.0</td>\n",
              "      <td>172</td>\n",
              "      <td>180.0</td>\n",
              "      <td>215</td>\n",
              "      <td>Completed</td>\n",
              "    </tr>\n",
              "  </tbody>\n",
              "</table>\n",
              "<p>1 rows × 21 columns</p>\n",
              "</div>\n",
              "      <button class=\"colab-df-convert\" onclick=\"convertToInteractive('df-7073b854-c1c7-4331-a051-705ae706a67f')\"\n",
              "              title=\"Convert this dataframe to an interactive table.\"\n",
              "              style=\"display:none;\">\n",
              "        \n",
              "  <svg xmlns=\"http://www.w3.org/2000/svg\" height=\"24px\"viewBox=\"0 0 24 24\"\n",
              "       width=\"24px\">\n",
              "    <path d=\"M0 0h24v24H0V0z\" fill=\"none\"/>\n",
              "    <path d=\"M18.56 5.44l.94 2.06.94-2.06 2.06-.94-2.06-.94-.94-2.06-.94 2.06-2.06.94zm-11 1L8.5 8.5l.94-2.06 2.06-.94-2.06-.94L8.5 2.5l-.94 2.06-2.06.94zm10 10l.94 2.06.94-2.06 2.06-.94-2.06-.94-.94-2.06-.94 2.06-2.06.94z\"/><path d=\"M17.41 7.96l-1.37-1.37c-.4-.4-.92-.59-1.43-.59-.52 0-1.04.2-1.43.59L10.3 9.45l-7.72 7.72c-.78.78-.78 2.05 0 2.83L4 21.41c.39.39.9.59 1.41.59.51 0 1.02-.2 1.41-.59l7.78-7.78 2.81-2.81c.8-.78.8-2.07 0-2.86zM5.41 20L4 18.59l7.72-7.72 1.47 1.35L5.41 20z\"/>\n",
              "  </svg>\n",
              "      </button>\n",
              "      \n",
              "  <style>\n",
              "    .colab-df-container {\n",
              "      display:flex;\n",
              "      flex-wrap:wrap;\n",
              "      gap: 12px;\n",
              "    }\n",
              "\n",
              "    .colab-df-convert {\n",
              "      background-color: #E8F0FE;\n",
              "      border: none;\n",
              "      border-radius: 50%;\n",
              "      cursor: pointer;\n",
              "      display: none;\n",
              "      fill: #1967D2;\n",
              "      height: 32px;\n",
              "      padding: 0 0 0 0;\n",
              "      width: 32px;\n",
              "    }\n",
              "\n",
              "    .colab-df-convert:hover {\n",
              "      background-color: #E2EBFA;\n",
              "      box-shadow: 0px 1px 2px rgba(60, 64, 67, 0.3), 0px 1px 3px 1px rgba(60, 64, 67, 0.15);\n",
              "      fill: #174EA6;\n",
              "    }\n",
              "\n",
              "    [theme=dark] .colab-df-convert {\n",
              "      background-color: #3B4455;\n",
              "      fill: #D2E3FC;\n",
              "    }\n",
              "\n",
              "    [theme=dark] .colab-df-convert:hover {\n",
              "      background-color: #434B5C;\n",
              "      box-shadow: 0px 1px 3px 1px rgba(0, 0, 0, 0.15);\n",
              "      filter: drop-shadow(0px 1px 2px rgba(0, 0, 0, 0.3));\n",
              "      fill: #FFFFFF;\n",
              "    }\n",
              "  </style>\n",
              "\n",
              "      <script>\n",
              "        const buttonEl =\n",
              "          document.querySelector('#df-7073b854-c1c7-4331-a051-705ae706a67f button.colab-df-convert');\n",
              "        buttonEl.style.display =\n",
              "          google.colab.kernel.accessAllowed ? 'block' : 'none';\n",
              "\n",
              "        async function convertToInteractive(key) {\n",
              "          const element = document.querySelector('#df-7073b854-c1c7-4331-a051-705ae706a67f');\n",
              "          const dataTable =\n",
              "            await google.colab.kernel.invokeFunction('convertToInteractive',\n",
              "                                                     [key], {});\n",
              "          if (!dataTable) return;\n",
              "\n",
              "          const docLinkHtml = 'Like what you see? Visit the ' +\n",
              "            '<a target=\"_blank\" href=https://colab.research.google.com/notebooks/data_table.ipynb>data table notebook</a>'\n",
              "            + ' to learn more about interactive tables.';\n",
              "          element.innerHTML = '';\n",
              "          dataTable['output_type'] = 'display_data';\n",
              "          await google.colab.output.renderOutput(dataTable, element);\n",
              "          const docLink = document.createElement('div');\n",
              "          docLink.innerHTML = docLinkHtml;\n",
              "          element.appendChild(docLink);\n",
              "        }\n",
              "      </script>\n",
              "    </div>\n",
              "  </div>\n",
              "  "
            ]
          },
          "metadata": {},
          "execution_count": 48
        }
      ]
    },
    {
      "cell_type": "code",
      "source": [
        "#create a function which takes 3 argument as below and return new column called \"diff\"\n",
        "\n",
        "def compare_column_values(df, column1, column2):\n",
        "  \"\"\"\n",
        "  Compares the values in two columns and returns the difference.\n",
        "\n",
        "  Args:\n",
        "    df: The DataFrame to be used.\n",
        "    column1: The name of the first column.\n",
        "    column2: The name of the second column.\n",
        "\n",
        "  Returns:\n",
        "    A new DataFrame with the difference between the values in the two columns.\n",
        "  \"\"\"\n",
        "\n",
        "  # Create a new DataFrame with the difference between the values in the two columns.\n",
        "  df_diff = df[column1] - df[column2]\n",
        "\n",
        "  # If the value in column2 is greater than or equal to the value in column1, then the difference is positive.\n",
        "  # Otherwise, the difference is negative, so we need to add 1440 minutes to it.\n",
        "\n",
        "  df_diff[df_diff < 0] = df_diff[df_diff < 0] + 1440\n",
        "\n",
        "  #assign the result to new column \"diff\"\n",
        "\n",
        "  data[\"diff\"]=df_diff\n",
        "\n",
        "  return data[\"diff\"]\n",
        "\n",
        "\n"
      ],
      "metadata": {
        "id": "qspxGPj0RXtf"
      },
      "execution_count": 49,
      "outputs": []
    },
    {
      "cell_type": "code",
      "source": [
        "#apply the function by pathing  [data, \"Delivery time-MIN\", \"Time customer placed order-MIN\"]\n",
        "\n",
        "compare_column_values(data, \"Delivery time-MIN\", \"Time customer placed order-MIN\")\n"
      ],
      "metadata": {
        "id": "VxkOvgGVXLL1",
        "colab": {
          "base_uri": "https://localhost:8080/"
        },
        "outputId": "c1aecac0-654e-4845-9392-da8d106a8925"
      },
      "execution_count": 50,
      "outputs": [
        {
          "output_type": "execute_result",
          "data": {
            "text/plain": [
              "0         43\n",
              "1        179\n",
              "2         29\n",
              "3         36\n",
              "4         51\n",
              "        ... \n",
              "72309     52\n",
              "72310     81\n",
              "72311    103\n",
              "72312    137\n",
              "72313    162\n",
              "Name: diff, Length: 72314, dtype: int64"
            ]
          },
          "metadata": {},
          "execution_count": 50
        }
      ]
    },
    {
      "cell_type": "code",
      "source": [
        "#reassign \"diff\" column to \"Total_delivery_time\"\n",
        "\n",
        "data[\"Total_delivery_time\"] = data[\"diff\"]"
      ],
      "metadata": {
        "id": "jYaZ3dlvHKQy"
      },
      "execution_count": 51,
      "outputs": []
    },
    {
      "cell_type": "code",
      "source": [
        "# five number summary to determine average minutes taken in delivery starting from customer placed order time till delivery\n",
        "\n",
        "data[\"Total_delivery_time\"].describe()"
      ],
      "metadata": {
        "colab": {
          "base_uri": "https://localhost:8080/"
        },
        "id": "w5c4lGUvKj2J",
        "outputId": "0186db2f-a541-4f95-9363-b694bba1c0a4"
      },
      "execution_count": 52,
      "outputs": [
        {
          "output_type": "execute_result",
          "data": {
            "text/plain": [
              "count    72314.000000\n",
              "mean       137.774995\n",
              "std        260.185031\n",
              "min          0.000000\n",
              "25%         46.000000\n",
              "50%         62.000000\n",
              "75%         91.000000\n",
              "max       1439.000000\n",
              "Name: Total_delivery_time, dtype: float64"
            ]
          },
          "metadata": {},
          "execution_count": 52
        }
      ]
    },
    {
      "cell_type": "markdown",
      "source": [
        "\n",
        "<a id='ONE'></a>\n",
        "\n",
        "#Answer of Question 1\n",
        "##\n",
        "According to the above stats, it seems that there are some outliers in data, 1439 min in delivery is not a logical record,\n",
        "that because data shows that there are some orders delivered in the same min as placed order  , because of this illogical records, so we will represent average by median not mean\n",
        "\n",
        "\n",
        "\n",
        "* 62 MIN is median of delivery time"
      ],
      "metadata": {
        "id": "sk56T0DgP6Fu"
      }
    },
    {
      "cell_type": "code",
      "source": [
        "data.head()"
      ],
      "metadata": {
        "id": "o9jDueWooxxY",
        "colab": {
          "base_uri": "https://localhost:8080/",
          "height": 455
        },
        "outputId": "ae41347d-06a1-4843-c12a-176dea510d6c"
      },
      "execution_count": 53,
      "outputs": [
        {
          "output_type": "execute_result",
          "data": {
            "text/plain": [
              "        Date Time customer placed order Time order placed at restaurant  \\\n",
              "0 2020-01-01                   02:52:12                        03:00:25   \n",
              "1 2020-01-01                   15:58:57                        17:56:45   \n",
              "2 2020-01-01                   19:02:37                        19:12:51   \n",
              "3 2020-01-01                   04:01:57                        04:08:18   \n",
              "4 2020-01-01                   23:46:38                        23:49:32   \n",
              "\n",
              "  Time driver arrived at restaurant Delivery time Driver ID Driver Name  \\\n",
              "0                          03:08:09      03:35:20      9329     Christy   \n",
              "1                          18:24:39      18:57:01      9175   Elizabeth   \n",
              "2                          19:19:59      19:31:09      9051       Janet   \n",
              "3                          04:13:02      04:37:57      9389   Jacquelyn   \n",
              "4                          23:54:29      00:37:15      9187      Lauren   \n",
              "\n",
              "  Restaurant ID Customer ID Delivery Area  ... Service fee  Discount    Tip  \\\n",
              "0          7263     1143515       Fremont  ...        3.83         2   1.40   \n",
              "1          7247     1136820       Hayward  ...        2.30         2  11.03   \n",
              "2          7293     1081871       Hayward  ...        2.39         8   4.31   \n",
              "3          7046     1128255    Union City  ...        2.55         2   8.55   \n",
              "4          7385     1051183       Hayward  ...        3.35         2   8.82   \n",
              "\n",
              "   Refunded amount  Time customer placed order-MIN  \\\n",
              "0              0.0                             172   \n",
              "1              0.0                             958   \n",
              "2              0.0                            1142   \n",
              "3              0.0                             241   \n",
              "4              0.0                            1426   \n",
              "\n",
              "   Time order placed at restaurant-MIN  Delivery time-MIN  Refunded_Completed  \\\n",
              "0                                180.0                215           Completed   \n",
              "1                               1076.0               1137           Completed   \n",
              "2                               1152.0               1171           Completed   \n",
              "3                                248.0                277           Completed   \n",
              "4                               1429.0                 37           Completed   \n",
              "\n",
              "   diff  Total_delivery_time  \n",
              "0    43                   43  \n",
              "1   179                  179  \n",
              "2    29                   29  \n",
              "3    36                   36  \n",
              "4    51                   51  \n",
              "\n",
              "[5 rows x 23 columns]"
            ],
            "text/html": [
              "\n",
              "  <div id=\"df-6b52be0a-67e0-4cf6-ad5a-e658ad390888\">\n",
              "    <div class=\"colab-df-container\">\n",
              "      <div>\n",
              "<style scoped>\n",
              "    .dataframe tbody tr th:only-of-type {\n",
              "        vertical-align: middle;\n",
              "    }\n",
              "\n",
              "    .dataframe tbody tr th {\n",
              "        vertical-align: top;\n",
              "    }\n",
              "\n",
              "    .dataframe thead th {\n",
              "        text-align: right;\n",
              "    }\n",
              "</style>\n",
              "<table border=\"1\" class=\"dataframe\">\n",
              "  <thead>\n",
              "    <tr style=\"text-align: right;\">\n",
              "      <th></th>\n",
              "      <th>Date</th>\n",
              "      <th>Time customer placed order</th>\n",
              "      <th>Time order placed at restaurant</th>\n",
              "      <th>Time driver arrived at restaurant</th>\n",
              "      <th>Delivery time</th>\n",
              "      <th>Driver ID</th>\n",
              "      <th>Driver Name</th>\n",
              "      <th>Restaurant ID</th>\n",
              "      <th>Customer ID</th>\n",
              "      <th>Delivery Area</th>\n",
              "      <th>...</th>\n",
              "      <th>Service fee</th>\n",
              "      <th>Discount</th>\n",
              "      <th>Tip</th>\n",
              "      <th>Refunded amount</th>\n",
              "      <th>Time customer placed order-MIN</th>\n",
              "      <th>Time order placed at restaurant-MIN</th>\n",
              "      <th>Delivery time-MIN</th>\n",
              "      <th>Refunded_Completed</th>\n",
              "      <th>diff</th>\n",
              "      <th>Total_delivery_time</th>\n",
              "    </tr>\n",
              "  </thead>\n",
              "  <tbody>\n",
              "    <tr>\n",
              "      <th>0</th>\n",
              "      <td>2020-01-01</td>\n",
              "      <td>02:52:12</td>\n",
              "      <td>03:00:25</td>\n",
              "      <td>03:08:09</td>\n",
              "      <td>03:35:20</td>\n",
              "      <td>9329</td>\n",
              "      <td>Christy</td>\n",
              "      <td>7263</td>\n",
              "      <td>1143515</td>\n",
              "      <td>Fremont</td>\n",
              "      <td>...</td>\n",
              "      <td>3.83</td>\n",
              "      <td>2</td>\n",
              "      <td>1.40</td>\n",
              "      <td>0.0</td>\n",
              "      <td>172</td>\n",
              "      <td>180.0</td>\n",
              "      <td>215</td>\n",
              "      <td>Completed</td>\n",
              "      <td>43</td>\n",
              "      <td>43</td>\n",
              "    </tr>\n",
              "    <tr>\n",
              "      <th>1</th>\n",
              "      <td>2020-01-01</td>\n",
              "      <td>15:58:57</td>\n",
              "      <td>17:56:45</td>\n",
              "      <td>18:24:39</td>\n",
              "      <td>18:57:01</td>\n",
              "      <td>9175</td>\n",
              "      <td>Elizabeth</td>\n",
              "      <td>7247</td>\n",
              "      <td>1136820</td>\n",
              "      <td>Hayward</td>\n",
              "      <td>...</td>\n",
              "      <td>2.30</td>\n",
              "      <td>2</td>\n",
              "      <td>11.03</td>\n",
              "      <td>0.0</td>\n",
              "      <td>958</td>\n",
              "      <td>1076.0</td>\n",
              "      <td>1137</td>\n",
              "      <td>Completed</td>\n",
              "      <td>179</td>\n",
              "      <td>179</td>\n",
              "    </tr>\n",
              "    <tr>\n",
              "      <th>2</th>\n",
              "      <td>2020-01-01</td>\n",
              "      <td>19:02:37</td>\n",
              "      <td>19:12:51</td>\n",
              "      <td>19:19:59</td>\n",
              "      <td>19:31:09</td>\n",
              "      <td>9051</td>\n",
              "      <td>Janet</td>\n",
              "      <td>7293</td>\n",
              "      <td>1081871</td>\n",
              "      <td>Hayward</td>\n",
              "      <td>...</td>\n",
              "      <td>2.39</td>\n",
              "      <td>8</td>\n",
              "      <td>4.31</td>\n",
              "      <td>0.0</td>\n",
              "      <td>1142</td>\n",
              "      <td>1152.0</td>\n",
              "      <td>1171</td>\n",
              "      <td>Completed</td>\n",
              "      <td>29</td>\n",
              "      <td>29</td>\n",
              "    </tr>\n",
              "    <tr>\n",
              "      <th>3</th>\n",
              "      <td>2020-01-01</td>\n",
              "      <td>04:01:57</td>\n",
              "      <td>04:08:18</td>\n",
              "      <td>04:13:02</td>\n",
              "      <td>04:37:57</td>\n",
              "      <td>9389</td>\n",
              "      <td>Jacquelyn</td>\n",
              "      <td>7046</td>\n",
              "      <td>1128255</td>\n",
              "      <td>Union City</td>\n",
              "      <td>...</td>\n",
              "      <td>2.55</td>\n",
              "      <td>2</td>\n",
              "      <td>8.55</td>\n",
              "      <td>0.0</td>\n",
              "      <td>241</td>\n",
              "      <td>248.0</td>\n",
              "      <td>277</td>\n",
              "      <td>Completed</td>\n",
              "      <td>36</td>\n",
              "      <td>36</td>\n",
              "    </tr>\n",
              "    <tr>\n",
              "      <th>4</th>\n",
              "      <td>2020-01-01</td>\n",
              "      <td>23:46:38</td>\n",
              "      <td>23:49:32</td>\n",
              "      <td>23:54:29</td>\n",
              "      <td>00:37:15</td>\n",
              "      <td>9187</td>\n",
              "      <td>Lauren</td>\n",
              "      <td>7385</td>\n",
              "      <td>1051183</td>\n",
              "      <td>Hayward</td>\n",
              "      <td>...</td>\n",
              "      <td>3.35</td>\n",
              "      <td>2</td>\n",
              "      <td>8.82</td>\n",
              "      <td>0.0</td>\n",
              "      <td>1426</td>\n",
              "      <td>1429.0</td>\n",
              "      <td>37</td>\n",
              "      <td>Completed</td>\n",
              "      <td>51</td>\n",
              "      <td>51</td>\n",
              "    </tr>\n",
              "  </tbody>\n",
              "</table>\n",
              "<p>5 rows × 23 columns</p>\n",
              "</div>\n",
              "      <button class=\"colab-df-convert\" onclick=\"convertToInteractive('df-6b52be0a-67e0-4cf6-ad5a-e658ad390888')\"\n",
              "              title=\"Convert this dataframe to an interactive table.\"\n",
              "              style=\"display:none;\">\n",
              "        \n",
              "  <svg xmlns=\"http://www.w3.org/2000/svg\" height=\"24px\"viewBox=\"0 0 24 24\"\n",
              "       width=\"24px\">\n",
              "    <path d=\"M0 0h24v24H0V0z\" fill=\"none\"/>\n",
              "    <path d=\"M18.56 5.44l.94 2.06.94-2.06 2.06-.94-2.06-.94-.94-2.06-.94 2.06-2.06.94zm-11 1L8.5 8.5l.94-2.06 2.06-.94-2.06-.94L8.5 2.5l-.94 2.06-2.06.94zm10 10l.94 2.06.94-2.06 2.06-.94-2.06-.94-.94-2.06-.94 2.06-2.06.94z\"/><path d=\"M17.41 7.96l-1.37-1.37c-.4-.4-.92-.59-1.43-.59-.52 0-1.04.2-1.43.59L10.3 9.45l-7.72 7.72c-.78.78-.78 2.05 0 2.83L4 21.41c.39.39.9.59 1.41.59.51 0 1.02-.2 1.41-.59l7.78-7.78 2.81-2.81c.8-.78.8-2.07 0-2.86zM5.41 20L4 18.59l7.72-7.72 1.47 1.35L5.41 20z\"/>\n",
              "  </svg>\n",
              "      </button>\n",
              "      \n",
              "  <style>\n",
              "    .colab-df-container {\n",
              "      display:flex;\n",
              "      flex-wrap:wrap;\n",
              "      gap: 12px;\n",
              "    }\n",
              "\n",
              "    .colab-df-convert {\n",
              "      background-color: #E8F0FE;\n",
              "      border: none;\n",
              "      border-radius: 50%;\n",
              "      cursor: pointer;\n",
              "      display: none;\n",
              "      fill: #1967D2;\n",
              "      height: 32px;\n",
              "      padding: 0 0 0 0;\n",
              "      width: 32px;\n",
              "    }\n",
              "\n",
              "    .colab-df-convert:hover {\n",
              "      background-color: #E2EBFA;\n",
              "      box-shadow: 0px 1px 2px rgba(60, 64, 67, 0.3), 0px 1px 3px 1px rgba(60, 64, 67, 0.15);\n",
              "      fill: #174EA6;\n",
              "    }\n",
              "\n",
              "    [theme=dark] .colab-df-convert {\n",
              "      background-color: #3B4455;\n",
              "      fill: #D2E3FC;\n",
              "    }\n",
              "\n",
              "    [theme=dark] .colab-df-convert:hover {\n",
              "      background-color: #434B5C;\n",
              "      box-shadow: 0px 1px 3px 1px rgba(0, 0, 0, 0.15);\n",
              "      filter: drop-shadow(0px 1px 2px rgba(0, 0, 0, 0.3));\n",
              "      fill: #FFFFFF;\n",
              "    }\n",
              "  </style>\n",
              "\n",
              "      <script>\n",
              "        const buttonEl =\n",
              "          document.querySelector('#df-6b52be0a-67e0-4cf6-ad5a-e658ad390888 button.colab-df-convert');\n",
              "        buttonEl.style.display =\n",
              "          google.colab.kernel.accessAllowed ? 'block' : 'none';\n",
              "\n",
              "        async function convertToInteractive(key) {\n",
              "          const element = document.querySelector('#df-6b52be0a-67e0-4cf6-ad5a-e658ad390888');\n",
              "          const dataTable =\n",
              "            await google.colab.kernel.invokeFunction('convertToInteractive',\n",
              "                                                     [key], {});\n",
              "          if (!dataTable) return;\n",
              "\n",
              "          const docLinkHtml = 'Like what you see? Visit the ' +\n",
              "            '<a target=\"_blank\" href=https://colab.research.google.com/notebooks/data_table.ipynb>data table notebook</a>'\n",
              "            + ' to learn more about interactive tables.';\n",
              "          element.innerHTML = '';\n",
              "          dataTable['output_type'] = 'display_data';\n",
              "          await google.colab.output.renderOutput(dataTable, element);\n",
              "          const docLink = document.createElement('div');\n",
              "          docLink.innerHTML = docLinkHtml;\n",
              "          element.appendChild(docLink);\n",
              "        }\n",
              "      </script>\n",
              "    </div>\n",
              "  </div>\n",
              "  "
            ]
          },
          "metadata": {},
          "execution_count": 53
        }
      ]
    },
    {
      "cell_type": "code",
      "source": [
        "#apply the function by pathing  [data, \"Delivery time-MIN\", \"Time order placed at restaurant-MIN\"]\n",
        "\n",
        "compare_column_values(data, \"Delivery time-MIN\", \"Time order placed at restaurant-MIN\")"
      ],
      "metadata": {
        "id": "4r82O807ofaQ",
        "colab": {
          "base_uri": "https://localhost:8080/"
        },
        "outputId": "833c442e-8e10-4863-ab1d-19869ebbc026"
      },
      "execution_count": 54,
      "outputs": [
        {
          "output_type": "execute_result",
          "data": {
            "text/plain": [
              "0         35.0\n",
              "1         61.0\n",
              "2         19.0\n",
              "3         29.0\n",
              "4         48.0\n",
              "         ...  \n",
              "72309     49.0\n",
              "72310     52.0\n",
              "72311     58.0\n",
              "72312    122.0\n",
              "72313    148.0\n",
              "Name: diff, Length: 72314, dtype: float64"
            ]
          },
          "metadata": {},
          "execution_count": 54
        }
      ]
    },
    {
      "cell_type": "code",
      "source": [
        "#reassign \"diff\" column to \"driver_efficiency_time\"\n",
        "\n",
        "data[\"driver_efficiency_time\"]=data[\"diff\"]"
      ],
      "metadata": {
        "id": "y9mbq-Z7Hl-a"
      },
      "execution_count": 55,
      "outputs": []
    },
    {
      "cell_type": "code",
      "source": [
        "#display data after generated Total_delivery_time & driver_efficiency_time\n",
        "\n",
        "data.head()"
      ],
      "metadata": {
        "id": "mk3HxiJ6cfgr",
        "colab": {
          "base_uri": "https://localhost:8080/",
          "height": 455
        },
        "outputId": "213a67c6-f45b-4e06-e912-88775562502a"
      },
      "execution_count": 56,
      "outputs": [
        {
          "output_type": "execute_result",
          "data": {
            "text/plain": [
              "        Date Time customer placed order Time order placed at restaurant  \\\n",
              "0 2020-01-01                   02:52:12                        03:00:25   \n",
              "1 2020-01-01                   15:58:57                        17:56:45   \n",
              "2 2020-01-01                   19:02:37                        19:12:51   \n",
              "3 2020-01-01                   04:01:57                        04:08:18   \n",
              "4 2020-01-01                   23:46:38                        23:49:32   \n",
              "\n",
              "  Time driver arrived at restaurant Delivery time Driver ID Driver Name  \\\n",
              "0                          03:08:09      03:35:20      9329     Christy   \n",
              "1                          18:24:39      18:57:01      9175   Elizabeth   \n",
              "2                          19:19:59      19:31:09      9051       Janet   \n",
              "3                          04:13:02      04:37:57      9389   Jacquelyn   \n",
              "4                          23:54:29      00:37:15      9187      Lauren   \n",
              "\n",
              "  Restaurant ID Customer ID Delivery Area  ... Discount    Tip  \\\n",
              "0          7263     1143515       Fremont  ...        2   1.40   \n",
              "1          7247     1136820       Hayward  ...        2  11.03   \n",
              "2          7293     1081871       Hayward  ...        8   4.31   \n",
              "3          7046     1128255    Union City  ...        2   8.55   \n",
              "4          7385     1051183       Hayward  ...        2   8.82   \n",
              "\n",
              "   Refunded amount  Time customer placed order-MIN  \\\n",
              "0              0.0                             172   \n",
              "1              0.0                             958   \n",
              "2              0.0                            1142   \n",
              "3              0.0                             241   \n",
              "4              0.0                            1426   \n",
              "\n",
              "   Time order placed at restaurant-MIN  Delivery time-MIN  Refunded_Completed  \\\n",
              "0                                180.0                215           Completed   \n",
              "1                               1076.0               1137           Completed   \n",
              "2                               1152.0               1171           Completed   \n",
              "3                                248.0                277           Completed   \n",
              "4                               1429.0                 37           Completed   \n",
              "\n",
              "   diff  Total_delivery_time  driver_efficiency_time  \n",
              "0  35.0                   43                    35.0  \n",
              "1  61.0                  179                    61.0  \n",
              "2  19.0                   29                    19.0  \n",
              "3  29.0                   36                    29.0  \n",
              "4  48.0                   51                    48.0  \n",
              "\n",
              "[5 rows x 24 columns]"
            ],
            "text/html": [
              "\n",
              "  <div id=\"df-23276570-ffb1-4326-b8a8-337f3413190e\">\n",
              "    <div class=\"colab-df-container\">\n",
              "      <div>\n",
              "<style scoped>\n",
              "    .dataframe tbody tr th:only-of-type {\n",
              "        vertical-align: middle;\n",
              "    }\n",
              "\n",
              "    .dataframe tbody tr th {\n",
              "        vertical-align: top;\n",
              "    }\n",
              "\n",
              "    .dataframe thead th {\n",
              "        text-align: right;\n",
              "    }\n",
              "</style>\n",
              "<table border=\"1\" class=\"dataframe\">\n",
              "  <thead>\n",
              "    <tr style=\"text-align: right;\">\n",
              "      <th></th>\n",
              "      <th>Date</th>\n",
              "      <th>Time customer placed order</th>\n",
              "      <th>Time order placed at restaurant</th>\n",
              "      <th>Time driver arrived at restaurant</th>\n",
              "      <th>Delivery time</th>\n",
              "      <th>Driver ID</th>\n",
              "      <th>Driver Name</th>\n",
              "      <th>Restaurant ID</th>\n",
              "      <th>Customer ID</th>\n",
              "      <th>Delivery Area</th>\n",
              "      <th>...</th>\n",
              "      <th>Discount</th>\n",
              "      <th>Tip</th>\n",
              "      <th>Refunded amount</th>\n",
              "      <th>Time customer placed order-MIN</th>\n",
              "      <th>Time order placed at restaurant-MIN</th>\n",
              "      <th>Delivery time-MIN</th>\n",
              "      <th>Refunded_Completed</th>\n",
              "      <th>diff</th>\n",
              "      <th>Total_delivery_time</th>\n",
              "      <th>driver_efficiency_time</th>\n",
              "    </tr>\n",
              "  </thead>\n",
              "  <tbody>\n",
              "    <tr>\n",
              "      <th>0</th>\n",
              "      <td>2020-01-01</td>\n",
              "      <td>02:52:12</td>\n",
              "      <td>03:00:25</td>\n",
              "      <td>03:08:09</td>\n",
              "      <td>03:35:20</td>\n",
              "      <td>9329</td>\n",
              "      <td>Christy</td>\n",
              "      <td>7263</td>\n",
              "      <td>1143515</td>\n",
              "      <td>Fremont</td>\n",
              "      <td>...</td>\n",
              "      <td>2</td>\n",
              "      <td>1.40</td>\n",
              "      <td>0.0</td>\n",
              "      <td>172</td>\n",
              "      <td>180.0</td>\n",
              "      <td>215</td>\n",
              "      <td>Completed</td>\n",
              "      <td>35.0</td>\n",
              "      <td>43</td>\n",
              "      <td>35.0</td>\n",
              "    </tr>\n",
              "    <tr>\n",
              "      <th>1</th>\n",
              "      <td>2020-01-01</td>\n",
              "      <td>15:58:57</td>\n",
              "      <td>17:56:45</td>\n",
              "      <td>18:24:39</td>\n",
              "      <td>18:57:01</td>\n",
              "      <td>9175</td>\n",
              "      <td>Elizabeth</td>\n",
              "      <td>7247</td>\n",
              "      <td>1136820</td>\n",
              "      <td>Hayward</td>\n",
              "      <td>...</td>\n",
              "      <td>2</td>\n",
              "      <td>11.03</td>\n",
              "      <td>0.0</td>\n",
              "      <td>958</td>\n",
              "      <td>1076.0</td>\n",
              "      <td>1137</td>\n",
              "      <td>Completed</td>\n",
              "      <td>61.0</td>\n",
              "      <td>179</td>\n",
              "      <td>61.0</td>\n",
              "    </tr>\n",
              "    <tr>\n",
              "      <th>2</th>\n",
              "      <td>2020-01-01</td>\n",
              "      <td>19:02:37</td>\n",
              "      <td>19:12:51</td>\n",
              "      <td>19:19:59</td>\n",
              "      <td>19:31:09</td>\n",
              "      <td>9051</td>\n",
              "      <td>Janet</td>\n",
              "      <td>7293</td>\n",
              "      <td>1081871</td>\n",
              "      <td>Hayward</td>\n",
              "      <td>...</td>\n",
              "      <td>8</td>\n",
              "      <td>4.31</td>\n",
              "      <td>0.0</td>\n",
              "      <td>1142</td>\n",
              "      <td>1152.0</td>\n",
              "      <td>1171</td>\n",
              "      <td>Completed</td>\n",
              "      <td>19.0</td>\n",
              "      <td>29</td>\n",
              "      <td>19.0</td>\n",
              "    </tr>\n",
              "    <tr>\n",
              "      <th>3</th>\n",
              "      <td>2020-01-01</td>\n",
              "      <td>04:01:57</td>\n",
              "      <td>04:08:18</td>\n",
              "      <td>04:13:02</td>\n",
              "      <td>04:37:57</td>\n",
              "      <td>9389</td>\n",
              "      <td>Jacquelyn</td>\n",
              "      <td>7046</td>\n",
              "      <td>1128255</td>\n",
              "      <td>Union City</td>\n",
              "      <td>...</td>\n",
              "      <td>2</td>\n",
              "      <td>8.55</td>\n",
              "      <td>0.0</td>\n",
              "      <td>241</td>\n",
              "      <td>248.0</td>\n",
              "      <td>277</td>\n",
              "      <td>Completed</td>\n",
              "      <td>29.0</td>\n",
              "      <td>36</td>\n",
              "      <td>29.0</td>\n",
              "    </tr>\n",
              "    <tr>\n",
              "      <th>4</th>\n",
              "      <td>2020-01-01</td>\n",
              "      <td>23:46:38</td>\n",
              "      <td>23:49:32</td>\n",
              "      <td>23:54:29</td>\n",
              "      <td>00:37:15</td>\n",
              "      <td>9187</td>\n",
              "      <td>Lauren</td>\n",
              "      <td>7385</td>\n",
              "      <td>1051183</td>\n",
              "      <td>Hayward</td>\n",
              "      <td>...</td>\n",
              "      <td>2</td>\n",
              "      <td>8.82</td>\n",
              "      <td>0.0</td>\n",
              "      <td>1426</td>\n",
              "      <td>1429.0</td>\n",
              "      <td>37</td>\n",
              "      <td>Completed</td>\n",
              "      <td>48.0</td>\n",
              "      <td>51</td>\n",
              "      <td>48.0</td>\n",
              "    </tr>\n",
              "  </tbody>\n",
              "</table>\n",
              "<p>5 rows × 24 columns</p>\n",
              "</div>\n",
              "      <button class=\"colab-df-convert\" onclick=\"convertToInteractive('df-23276570-ffb1-4326-b8a8-337f3413190e')\"\n",
              "              title=\"Convert this dataframe to an interactive table.\"\n",
              "              style=\"display:none;\">\n",
              "        \n",
              "  <svg xmlns=\"http://www.w3.org/2000/svg\" height=\"24px\"viewBox=\"0 0 24 24\"\n",
              "       width=\"24px\">\n",
              "    <path d=\"M0 0h24v24H0V0z\" fill=\"none\"/>\n",
              "    <path d=\"M18.56 5.44l.94 2.06.94-2.06 2.06-.94-2.06-.94-.94-2.06-.94 2.06-2.06.94zm-11 1L8.5 8.5l.94-2.06 2.06-.94-2.06-.94L8.5 2.5l-.94 2.06-2.06.94zm10 10l.94 2.06.94-2.06 2.06-.94-2.06-.94-.94-2.06-.94 2.06-2.06.94z\"/><path d=\"M17.41 7.96l-1.37-1.37c-.4-.4-.92-.59-1.43-.59-.52 0-1.04.2-1.43.59L10.3 9.45l-7.72 7.72c-.78.78-.78 2.05 0 2.83L4 21.41c.39.39.9.59 1.41.59.51 0 1.02-.2 1.41-.59l7.78-7.78 2.81-2.81c.8-.78.8-2.07 0-2.86zM5.41 20L4 18.59l7.72-7.72 1.47 1.35L5.41 20z\"/>\n",
              "  </svg>\n",
              "      </button>\n",
              "      \n",
              "  <style>\n",
              "    .colab-df-container {\n",
              "      display:flex;\n",
              "      flex-wrap:wrap;\n",
              "      gap: 12px;\n",
              "    }\n",
              "\n",
              "    .colab-df-convert {\n",
              "      background-color: #E8F0FE;\n",
              "      border: none;\n",
              "      border-radius: 50%;\n",
              "      cursor: pointer;\n",
              "      display: none;\n",
              "      fill: #1967D2;\n",
              "      height: 32px;\n",
              "      padding: 0 0 0 0;\n",
              "      width: 32px;\n",
              "    }\n",
              "\n",
              "    .colab-df-convert:hover {\n",
              "      background-color: #E2EBFA;\n",
              "      box-shadow: 0px 1px 2px rgba(60, 64, 67, 0.3), 0px 1px 3px 1px rgba(60, 64, 67, 0.15);\n",
              "      fill: #174EA6;\n",
              "    }\n",
              "\n",
              "    [theme=dark] .colab-df-convert {\n",
              "      background-color: #3B4455;\n",
              "      fill: #D2E3FC;\n",
              "    }\n",
              "\n",
              "    [theme=dark] .colab-df-convert:hover {\n",
              "      background-color: #434B5C;\n",
              "      box-shadow: 0px 1px 3px 1px rgba(0, 0, 0, 0.15);\n",
              "      filter: drop-shadow(0px 1px 2px rgba(0, 0, 0, 0.3));\n",
              "      fill: #FFFFFF;\n",
              "    }\n",
              "  </style>\n",
              "\n",
              "      <script>\n",
              "        const buttonEl =\n",
              "          document.querySelector('#df-23276570-ffb1-4326-b8a8-337f3413190e button.colab-df-convert');\n",
              "        buttonEl.style.display =\n",
              "          google.colab.kernel.accessAllowed ? 'block' : 'none';\n",
              "\n",
              "        async function convertToInteractive(key) {\n",
              "          const element = document.querySelector('#df-23276570-ffb1-4326-b8a8-337f3413190e');\n",
              "          const dataTable =\n",
              "            await google.colab.kernel.invokeFunction('convertToInteractive',\n",
              "                                                     [key], {});\n",
              "          if (!dataTable) return;\n",
              "\n",
              "          const docLinkHtml = 'Like what you see? Visit the ' +\n",
              "            '<a target=\"_blank\" href=https://colab.research.google.com/notebooks/data_table.ipynb>data table notebook</a>'\n",
              "            + ' to learn more about interactive tables.';\n",
              "          element.innerHTML = '';\n",
              "          dataTable['output_type'] = 'display_data';\n",
              "          await google.colab.output.renderOutput(dataTable, element);\n",
              "          const docLink = document.createElement('div');\n",
              "          docLink.innerHTML = docLinkHtml;\n",
              "          element.appendChild(docLink);\n",
              "        }\n",
              "      </script>\n",
              "    </div>\n",
              "  </div>\n",
              "  "
            ]
          },
          "metadata": {},
          "execution_count": 56
        }
      ]
    },
    {
      "cell_type": "code",
      "source": [
        "# five number summary to determin average minutes taken in delivery from Time order placed at restaurant till delivered to customer\n",
        "\n",
        "data[\"driver_efficiency_time\"].describe()\n"
      ],
      "metadata": {
        "id": "RBsJmLLcfYTx",
        "colab": {
          "base_uri": "https://localhost:8080/"
        },
        "outputId": "6c0f4bf0-33da-45ec-d7a4-ebf4107ff8de"
      },
      "execution_count": 57,
      "outputs": [
        {
          "output_type": "execute_result",
          "data": {
            "text/plain": [
              "count    72154.000000\n",
              "mean        91.045167\n",
              "std        192.501978\n",
              "min          0.000000\n",
              "25%         38.000000\n",
              "50%         50.000000\n",
              "75%         68.000000\n",
              "max       1439.000000\n",
              "Name: driver_efficiency_time, dtype: float64"
            ]
          },
          "metadata": {},
          "execution_count": 57
        }
      ]
    },
    {
      "cell_type": "code",
      "source": [
        "#group data by \"Driver ID\" & \"Driver Name\" to determine total tips & total time\n",
        "\n",
        "data2= data.groupby([\"Driver ID\" , \"Driver Name\"])[[\"Tip\" , \"driver_efficiency_time\"]].sum()\n",
        "\n",
        "print(data2.head())\n"
      ],
      "metadata": {
        "id": "KOzSZ7OmrCcp",
        "colab": {
          "base_uri": "https://localhost:8080/"
        },
        "outputId": "6515a738-6652-4d46-920f-901729373dac"
      },
      "execution_count": 58,
      "outputs": [
        {
          "output_type": "stream",
          "name": "stdout",
          "text": [
            "                           Tip  driver_efficiency_time\n",
            "Driver ID Driver Name                                 \n",
            "9007      Judith       1651.16                 16445.0\n",
            "9008      Jessie       1893.93                 21111.0\n",
            "9009      Fred         1724.12                 13598.0\n",
            "9010      Marie        1444.66                 10306.0\n",
            "9011      Mallory      2106.47                 22648.0\n"
          ]
        }
      ]
    },
    {
      "cell_type": "code",
      "source": [
        "#adding orders count per each driver\n",
        "\n",
        "data3 = data.groupby([\"Driver ID\" , \"Driver Name\"])[\"Customer ID\"].count()\n",
        "data3 = pd.DataFrame(data3)\n",
        "data3= data3.rename(columns={\"Customer ID\" : \"Orders_count\"})\n",
        "#df = df.rename(columns={\"City\": \"Location\"})\n",
        "data3"
      ],
      "metadata": {
        "id": "PQMQakH6w3Rv",
        "colab": {
          "base_uri": "https://localhost:8080/",
          "height": 455
        },
        "outputId": "7ea948b4-f4d4-4ad9-f662-af66eb57b63b"
      },
      "execution_count": 59,
      "outputs": [
        {
          "output_type": "execute_result",
          "data": {
            "text/plain": [
              "                       Orders_count\n",
              "Driver ID Driver Name              \n",
              "9007      Judith                160\n",
              "9008      Jessie                192\n",
              "9009      Fred                  172\n",
              "9010      Marie                 156\n",
              "9011      Mallory               216\n",
              "...                             ...\n",
              "9434      Alícia                164\n",
              "9435      Paige                 156\n",
              "9436      Alison                160\n",
              "9437      Bonnie                236\n",
              "9438      Ruby                  196\n",
              "\n",
              "[432 rows x 1 columns]"
            ],
            "text/html": [
              "\n",
              "  <div id=\"df-54883bff-de4d-4c5d-8086-707e30999480\">\n",
              "    <div class=\"colab-df-container\">\n",
              "      <div>\n",
              "<style scoped>\n",
              "    .dataframe tbody tr th:only-of-type {\n",
              "        vertical-align: middle;\n",
              "    }\n",
              "\n",
              "    .dataframe tbody tr th {\n",
              "        vertical-align: top;\n",
              "    }\n",
              "\n",
              "    .dataframe thead th {\n",
              "        text-align: right;\n",
              "    }\n",
              "</style>\n",
              "<table border=\"1\" class=\"dataframe\">\n",
              "  <thead>\n",
              "    <tr style=\"text-align: right;\">\n",
              "      <th></th>\n",
              "      <th></th>\n",
              "      <th>Orders_count</th>\n",
              "    </tr>\n",
              "    <tr>\n",
              "      <th>Driver ID</th>\n",
              "      <th>Driver Name</th>\n",
              "      <th></th>\n",
              "    </tr>\n",
              "  </thead>\n",
              "  <tbody>\n",
              "    <tr>\n",
              "      <th>9007</th>\n",
              "      <th>Judith</th>\n",
              "      <td>160</td>\n",
              "    </tr>\n",
              "    <tr>\n",
              "      <th>9008</th>\n",
              "      <th>Jessie</th>\n",
              "      <td>192</td>\n",
              "    </tr>\n",
              "    <tr>\n",
              "      <th>9009</th>\n",
              "      <th>Fred</th>\n",
              "      <td>172</td>\n",
              "    </tr>\n",
              "    <tr>\n",
              "      <th>9010</th>\n",
              "      <th>Marie</th>\n",
              "      <td>156</td>\n",
              "    </tr>\n",
              "    <tr>\n",
              "      <th>9011</th>\n",
              "      <th>Mallory</th>\n",
              "      <td>216</td>\n",
              "    </tr>\n",
              "    <tr>\n",
              "      <th>...</th>\n",
              "      <th>...</th>\n",
              "      <td>...</td>\n",
              "    </tr>\n",
              "    <tr>\n",
              "      <th>9434</th>\n",
              "      <th>Alícia</th>\n",
              "      <td>164</td>\n",
              "    </tr>\n",
              "    <tr>\n",
              "      <th>9435</th>\n",
              "      <th>Paige</th>\n",
              "      <td>156</td>\n",
              "    </tr>\n",
              "    <tr>\n",
              "      <th>9436</th>\n",
              "      <th>Alison</th>\n",
              "      <td>160</td>\n",
              "    </tr>\n",
              "    <tr>\n",
              "      <th>9437</th>\n",
              "      <th>Bonnie</th>\n",
              "      <td>236</td>\n",
              "    </tr>\n",
              "    <tr>\n",
              "      <th>9438</th>\n",
              "      <th>Ruby</th>\n",
              "      <td>196</td>\n",
              "    </tr>\n",
              "  </tbody>\n",
              "</table>\n",
              "<p>432 rows × 1 columns</p>\n",
              "</div>\n",
              "      <button class=\"colab-df-convert\" onclick=\"convertToInteractive('df-54883bff-de4d-4c5d-8086-707e30999480')\"\n",
              "              title=\"Convert this dataframe to an interactive table.\"\n",
              "              style=\"display:none;\">\n",
              "        \n",
              "  <svg xmlns=\"http://www.w3.org/2000/svg\" height=\"24px\"viewBox=\"0 0 24 24\"\n",
              "       width=\"24px\">\n",
              "    <path d=\"M0 0h24v24H0V0z\" fill=\"none\"/>\n",
              "    <path d=\"M18.56 5.44l.94 2.06.94-2.06 2.06-.94-2.06-.94-.94-2.06-.94 2.06-2.06.94zm-11 1L8.5 8.5l.94-2.06 2.06-.94-2.06-.94L8.5 2.5l-.94 2.06-2.06.94zm10 10l.94 2.06.94-2.06 2.06-.94-2.06-.94-.94-2.06-.94 2.06-2.06.94z\"/><path d=\"M17.41 7.96l-1.37-1.37c-.4-.4-.92-.59-1.43-.59-.52 0-1.04.2-1.43.59L10.3 9.45l-7.72 7.72c-.78.78-.78 2.05 0 2.83L4 21.41c.39.39.9.59 1.41.59.51 0 1.02-.2 1.41-.59l7.78-7.78 2.81-2.81c.8-.78.8-2.07 0-2.86zM5.41 20L4 18.59l7.72-7.72 1.47 1.35L5.41 20z\"/>\n",
              "  </svg>\n",
              "      </button>\n",
              "      \n",
              "  <style>\n",
              "    .colab-df-container {\n",
              "      display:flex;\n",
              "      flex-wrap:wrap;\n",
              "      gap: 12px;\n",
              "    }\n",
              "\n",
              "    .colab-df-convert {\n",
              "      background-color: #E8F0FE;\n",
              "      border: none;\n",
              "      border-radius: 50%;\n",
              "      cursor: pointer;\n",
              "      display: none;\n",
              "      fill: #1967D2;\n",
              "      height: 32px;\n",
              "      padding: 0 0 0 0;\n",
              "      width: 32px;\n",
              "    }\n",
              "\n",
              "    .colab-df-convert:hover {\n",
              "      background-color: #E2EBFA;\n",
              "      box-shadow: 0px 1px 2px rgba(60, 64, 67, 0.3), 0px 1px 3px 1px rgba(60, 64, 67, 0.15);\n",
              "      fill: #174EA6;\n",
              "    }\n",
              "\n",
              "    [theme=dark] .colab-df-convert {\n",
              "      background-color: #3B4455;\n",
              "      fill: #D2E3FC;\n",
              "    }\n",
              "\n",
              "    [theme=dark] .colab-df-convert:hover {\n",
              "      background-color: #434B5C;\n",
              "      box-shadow: 0px 1px 3px 1px rgba(0, 0, 0, 0.15);\n",
              "      filter: drop-shadow(0px 1px 2px rgba(0, 0, 0, 0.3));\n",
              "      fill: #FFFFFF;\n",
              "    }\n",
              "  </style>\n",
              "\n",
              "      <script>\n",
              "        const buttonEl =\n",
              "          document.querySelector('#df-54883bff-de4d-4c5d-8086-707e30999480 button.colab-df-convert');\n",
              "        buttonEl.style.display =\n",
              "          google.colab.kernel.accessAllowed ? 'block' : 'none';\n",
              "\n",
              "        async function convertToInteractive(key) {\n",
              "          const element = document.querySelector('#df-54883bff-de4d-4c5d-8086-707e30999480');\n",
              "          const dataTable =\n",
              "            await google.colab.kernel.invokeFunction('convertToInteractive',\n",
              "                                                     [key], {});\n",
              "          if (!dataTable) return;\n",
              "\n",
              "          const docLinkHtml = 'Like what you see? Visit the ' +\n",
              "            '<a target=\"_blank\" href=https://colab.research.google.com/notebooks/data_table.ipynb>data table notebook</a>'\n",
              "            + ' to learn more about interactive tables.';\n",
              "          element.innerHTML = '';\n",
              "          dataTable['output_type'] = 'display_data';\n",
              "          await google.colab.output.renderOutput(dataTable, element);\n",
              "          const docLink = document.createElement('div');\n",
              "          docLink.innerHTML = docLinkHtml;\n",
              "          element.appendChild(docLink);\n",
              "        }\n",
              "      </script>\n",
              "    </div>\n",
              "  </div>\n",
              "  "
            ]
          },
          "metadata": {},
          "execution_count": 59
        }
      ]
    },
    {
      "cell_type": "code",
      "source": [
        "#merge data2 with data3\n",
        "\n",
        "data_merged = data2.merge(data3, on=[\"Driver ID\",\"Driver Name\"])\n",
        "data_merged = pd.DataFrame(data_merged)\n",
        "\n",
        "data_merged = data_merged.reset_index(drop=False)\n",
        "data_merged"
      ],
      "metadata": {
        "id": "9NTJI6sI1qmN",
        "colab": {
          "base_uri": "https://localhost:8080/",
          "height": 423
        },
        "outputId": "662b6485-eb7b-4369-efc0-34136957cb28"
      },
      "execution_count": 60,
      "outputs": [
        {
          "output_type": "execute_result",
          "data": {
            "text/plain": [
              "    Driver ID Driver Name      Tip  driver_efficiency_time  Orders_count\n",
              "0        9007      Judith  1651.16                 16445.0           160\n",
              "1        9008      Jessie  1893.93                 21111.0           192\n",
              "2        9009        Fred  1724.12                 13598.0           172\n",
              "3        9010       Marie  1444.66                 10306.0           156\n",
              "4        9011     Mallory  2106.47                 22648.0           216\n",
              "..        ...         ...      ...                     ...           ...\n",
              "427      9434      Alícia  1570.27                 15719.0           164\n",
              "428      9435       Paige  1715.56                 18172.0           156\n",
              "429      9436      Alison  1551.00                 15084.0           160\n",
              "430      9437      Bonnie  2310.25                 20166.0           236\n",
              "431      9438        Ruby  1783.83                 16127.0           196\n",
              "\n",
              "[432 rows x 5 columns]"
            ],
            "text/html": [
              "\n",
              "  <div id=\"df-baa7a3cd-f371-4481-a26a-3a77fcd30aa4\">\n",
              "    <div class=\"colab-df-container\">\n",
              "      <div>\n",
              "<style scoped>\n",
              "    .dataframe tbody tr th:only-of-type {\n",
              "        vertical-align: middle;\n",
              "    }\n",
              "\n",
              "    .dataframe tbody tr th {\n",
              "        vertical-align: top;\n",
              "    }\n",
              "\n",
              "    .dataframe thead th {\n",
              "        text-align: right;\n",
              "    }\n",
              "</style>\n",
              "<table border=\"1\" class=\"dataframe\">\n",
              "  <thead>\n",
              "    <tr style=\"text-align: right;\">\n",
              "      <th></th>\n",
              "      <th>Driver ID</th>\n",
              "      <th>Driver Name</th>\n",
              "      <th>Tip</th>\n",
              "      <th>driver_efficiency_time</th>\n",
              "      <th>Orders_count</th>\n",
              "    </tr>\n",
              "  </thead>\n",
              "  <tbody>\n",
              "    <tr>\n",
              "      <th>0</th>\n",
              "      <td>9007</td>\n",
              "      <td>Judith</td>\n",
              "      <td>1651.16</td>\n",
              "      <td>16445.0</td>\n",
              "      <td>160</td>\n",
              "    </tr>\n",
              "    <tr>\n",
              "      <th>1</th>\n",
              "      <td>9008</td>\n",
              "      <td>Jessie</td>\n",
              "      <td>1893.93</td>\n",
              "      <td>21111.0</td>\n",
              "      <td>192</td>\n",
              "    </tr>\n",
              "    <tr>\n",
              "      <th>2</th>\n",
              "      <td>9009</td>\n",
              "      <td>Fred</td>\n",
              "      <td>1724.12</td>\n",
              "      <td>13598.0</td>\n",
              "      <td>172</td>\n",
              "    </tr>\n",
              "    <tr>\n",
              "      <th>3</th>\n",
              "      <td>9010</td>\n",
              "      <td>Marie</td>\n",
              "      <td>1444.66</td>\n",
              "      <td>10306.0</td>\n",
              "      <td>156</td>\n",
              "    </tr>\n",
              "    <tr>\n",
              "      <th>4</th>\n",
              "      <td>9011</td>\n",
              "      <td>Mallory</td>\n",
              "      <td>2106.47</td>\n",
              "      <td>22648.0</td>\n",
              "      <td>216</td>\n",
              "    </tr>\n",
              "    <tr>\n",
              "      <th>...</th>\n",
              "      <td>...</td>\n",
              "      <td>...</td>\n",
              "      <td>...</td>\n",
              "      <td>...</td>\n",
              "      <td>...</td>\n",
              "    </tr>\n",
              "    <tr>\n",
              "      <th>427</th>\n",
              "      <td>9434</td>\n",
              "      <td>Alícia</td>\n",
              "      <td>1570.27</td>\n",
              "      <td>15719.0</td>\n",
              "      <td>164</td>\n",
              "    </tr>\n",
              "    <tr>\n",
              "      <th>428</th>\n",
              "      <td>9435</td>\n",
              "      <td>Paige</td>\n",
              "      <td>1715.56</td>\n",
              "      <td>18172.0</td>\n",
              "      <td>156</td>\n",
              "    </tr>\n",
              "    <tr>\n",
              "      <th>429</th>\n",
              "      <td>9436</td>\n",
              "      <td>Alison</td>\n",
              "      <td>1551.00</td>\n",
              "      <td>15084.0</td>\n",
              "      <td>160</td>\n",
              "    </tr>\n",
              "    <tr>\n",
              "      <th>430</th>\n",
              "      <td>9437</td>\n",
              "      <td>Bonnie</td>\n",
              "      <td>2310.25</td>\n",
              "      <td>20166.0</td>\n",
              "      <td>236</td>\n",
              "    </tr>\n",
              "    <tr>\n",
              "      <th>431</th>\n",
              "      <td>9438</td>\n",
              "      <td>Ruby</td>\n",
              "      <td>1783.83</td>\n",
              "      <td>16127.0</td>\n",
              "      <td>196</td>\n",
              "    </tr>\n",
              "  </tbody>\n",
              "</table>\n",
              "<p>432 rows × 5 columns</p>\n",
              "</div>\n",
              "      <button class=\"colab-df-convert\" onclick=\"convertToInteractive('df-baa7a3cd-f371-4481-a26a-3a77fcd30aa4')\"\n",
              "              title=\"Convert this dataframe to an interactive table.\"\n",
              "              style=\"display:none;\">\n",
              "        \n",
              "  <svg xmlns=\"http://www.w3.org/2000/svg\" height=\"24px\"viewBox=\"0 0 24 24\"\n",
              "       width=\"24px\">\n",
              "    <path d=\"M0 0h24v24H0V0z\" fill=\"none\"/>\n",
              "    <path d=\"M18.56 5.44l.94 2.06.94-2.06 2.06-.94-2.06-.94-.94-2.06-.94 2.06-2.06.94zm-11 1L8.5 8.5l.94-2.06 2.06-.94-2.06-.94L8.5 2.5l-.94 2.06-2.06.94zm10 10l.94 2.06.94-2.06 2.06-.94-2.06-.94-.94-2.06-.94 2.06-2.06.94z\"/><path d=\"M17.41 7.96l-1.37-1.37c-.4-.4-.92-.59-1.43-.59-.52 0-1.04.2-1.43.59L10.3 9.45l-7.72 7.72c-.78.78-.78 2.05 0 2.83L4 21.41c.39.39.9.59 1.41.59.51 0 1.02-.2 1.41-.59l7.78-7.78 2.81-2.81c.8-.78.8-2.07 0-2.86zM5.41 20L4 18.59l7.72-7.72 1.47 1.35L5.41 20z\"/>\n",
              "  </svg>\n",
              "      </button>\n",
              "      \n",
              "  <style>\n",
              "    .colab-df-container {\n",
              "      display:flex;\n",
              "      flex-wrap:wrap;\n",
              "      gap: 12px;\n",
              "    }\n",
              "\n",
              "    .colab-df-convert {\n",
              "      background-color: #E8F0FE;\n",
              "      border: none;\n",
              "      border-radius: 50%;\n",
              "      cursor: pointer;\n",
              "      display: none;\n",
              "      fill: #1967D2;\n",
              "      height: 32px;\n",
              "      padding: 0 0 0 0;\n",
              "      width: 32px;\n",
              "    }\n",
              "\n",
              "    .colab-df-convert:hover {\n",
              "      background-color: #E2EBFA;\n",
              "      box-shadow: 0px 1px 2px rgba(60, 64, 67, 0.3), 0px 1px 3px 1px rgba(60, 64, 67, 0.15);\n",
              "      fill: #174EA6;\n",
              "    }\n",
              "\n",
              "    [theme=dark] .colab-df-convert {\n",
              "      background-color: #3B4455;\n",
              "      fill: #D2E3FC;\n",
              "    }\n",
              "\n",
              "    [theme=dark] .colab-df-convert:hover {\n",
              "      background-color: #434B5C;\n",
              "      box-shadow: 0px 1px 3px 1px rgba(0, 0, 0, 0.15);\n",
              "      filter: drop-shadow(0px 1px 2px rgba(0, 0, 0, 0.3));\n",
              "      fill: #FFFFFF;\n",
              "    }\n",
              "  </style>\n",
              "\n",
              "      <script>\n",
              "        const buttonEl =\n",
              "          document.querySelector('#df-baa7a3cd-f371-4481-a26a-3a77fcd30aa4 button.colab-df-convert');\n",
              "        buttonEl.style.display =\n",
              "          google.colab.kernel.accessAllowed ? 'block' : 'none';\n",
              "\n",
              "        async function convertToInteractive(key) {\n",
              "          const element = document.querySelector('#df-baa7a3cd-f371-4481-a26a-3a77fcd30aa4');\n",
              "          const dataTable =\n",
              "            await google.colab.kernel.invokeFunction('convertToInteractive',\n",
              "                                                     [key], {});\n",
              "          if (!dataTable) return;\n",
              "\n",
              "          const docLinkHtml = 'Like what you see? Visit the ' +\n",
              "            '<a target=\"_blank\" href=https://colab.research.google.com/notebooks/data_table.ipynb>data table notebook</a>'\n",
              "            + ' to learn more about interactive tables.';\n",
              "          element.innerHTML = '';\n",
              "          dataTable['output_type'] = 'display_data';\n",
              "          await google.colab.output.renderOutput(dataTable, element);\n",
              "          const docLink = document.createElement('div');\n",
              "          docLink.innerHTML = docLinkHtml;\n",
              "          element.appendChild(docLink);\n",
              "        }\n",
              "      </script>\n",
              "    </div>\n",
              "  </div>\n",
              "  "
            ]
          },
          "metadata": {},
          "execution_count": 60
        }
      ]
    },
    {
      "cell_type": "code",
      "source": [
        "data_merged.info()"
      ],
      "metadata": {
        "colab": {
          "base_uri": "https://localhost:8080/"
        },
        "id": "5m-SXax9gcnj",
        "outputId": "e8203118-fb37-49c5-fd7c-79bf774c0646"
      },
      "execution_count": 61,
      "outputs": [
        {
          "output_type": "stream",
          "name": "stdout",
          "text": [
            "<class 'pandas.core.frame.DataFrame'>\n",
            "RangeIndex: 432 entries, 0 to 431\n",
            "Data columns (total 5 columns):\n",
            " #   Column                  Non-Null Count  Dtype  \n",
            "---  ------                  --------------  -----  \n",
            " 0   Driver ID               432 non-null    object \n",
            " 1   Driver Name             432 non-null    object \n",
            " 2   Tip                     432 non-null    float64\n",
            " 3   driver_efficiency_time  432 non-null    float64\n",
            " 4   Orders_count            432 non-null    int64  \n",
            "dtypes: float64(2), int64(1), object(2)\n",
            "memory usage: 17.0+ KB\n"
          ]
        }
      ]
    },
    {
      "cell_type": "code",
      "source": [
        "\n",
        "# calculate Driver Efficiency by calculating the number of deliveries completed per hour by each driver.\n",
        "\n",
        "data_merged[\"effeciency\"] = data_merged[\"Orders_count\"]/(data_merged[\"driver_efficiency_time\"]/60)\n",
        "print(data_merged.describe())\n",
        "data_merged"
      ],
      "metadata": {
        "id": "V-sx3Yqb1zsM",
        "colab": {
          "base_uri": "https://localhost:8080/",
          "height": 580
        },
        "outputId": "f989f882-333d-433d-dd33-bd50ec1bd697"
      },
      "execution_count": 62,
      "outputs": [
        {
          "output_type": "stream",
          "name": "stdout",
          "text": [
            "               Tip  driver_efficiency_time  Orders_count  effeciency\n",
            "count   432.000000              432.000000    432.000000  432.000000\n",
            "mean   1589.332153            15206.650463    167.393519    0.677904\n",
            "std     277.169515             3506.931071     26.319962    0.106470\n",
            "min     859.590000             6438.000000     84.000000    0.426676\n",
            "25%    1401.187500            12816.750000    148.000000    0.607314\n",
            "50%    1582.130000            14922.500000    166.000000    0.668235\n",
            "75%    1767.432500            17177.250000    184.000000    0.735185\n",
            "max    2365.070000            27980.000000    244.000000    1.066535\n"
          ]
        },
        {
          "output_type": "execute_result",
          "data": {
            "text/plain": [
              "    Driver ID Driver Name      Tip  driver_efficiency_time  Orders_count  \\\n",
              "0        9007      Judith  1651.16                 16445.0           160   \n",
              "1        9008      Jessie  1893.93                 21111.0           192   \n",
              "2        9009        Fred  1724.12                 13598.0           172   \n",
              "3        9010       Marie  1444.66                 10306.0           156   \n",
              "4        9011     Mallory  2106.47                 22648.0           216   \n",
              "..        ...         ...      ...                     ...           ...   \n",
              "427      9434      Alícia  1570.27                 15719.0           164   \n",
              "428      9435       Paige  1715.56                 18172.0           156   \n",
              "429      9436      Alison  1551.00                 15084.0           160   \n",
              "430      9437      Bonnie  2310.25                 20166.0           236   \n",
              "431      9438        Ruby  1783.83                 16127.0           196   \n",
              "\n",
              "     effeciency  \n",
              "0      0.583764  \n",
              "1      0.545687  \n",
              "2      0.758935  \n",
              "3      0.908209  \n",
              "4      0.572236  \n",
              "..          ...  \n",
              "427    0.625994  \n",
              "428    0.515078  \n",
              "429    0.636436  \n",
              "430    0.702172  \n",
              "431    0.729212  \n",
              "\n",
              "[432 rows x 6 columns]"
            ],
            "text/html": [
              "\n",
              "  <div id=\"df-1129078e-e040-4aba-913f-c5e0af76460b\">\n",
              "    <div class=\"colab-df-container\">\n",
              "      <div>\n",
              "<style scoped>\n",
              "    .dataframe tbody tr th:only-of-type {\n",
              "        vertical-align: middle;\n",
              "    }\n",
              "\n",
              "    .dataframe tbody tr th {\n",
              "        vertical-align: top;\n",
              "    }\n",
              "\n",
              "    .dataframe thead th {\n",
              "        text-align: right;\n",
              "    }\n",
              "</style>\n",
              "<table border=\"1\" class=\"dataframe\">\n",
              "  <thead>\n",
              "    <tr style=\"text-align: right;\">\n",
              "      <th></th>\n",
              "      <th>Driver ID</th>\n",
              "      <th>Driver Name</th>\n",
              "      <th>Tip</th>\n",
              "      <th>driver_efficiency_time</th>\n",
              "      <th>Orders_count</th>\n",
              "      <th>effeciency</th>\n",
              "    </tr>\n",
              "  </thead>\n",
              "  <tbody>\n",
              "    <tr>\n",
              "      <th>0</th>\n",
              "      <td>9007</td>\n",
              "      <td>Judith</td>\n",
              "      <td>1651.16</td>\n",
              "      <td>16445.0</td>\n",
              "      <td>160</td>\n",
              "      <td>0.583764</td>\n",
              "    </tr>\n",
              "    <tr>\n",
              "      <th>1</th>\n",
              "      <td>9008</td>\n",
              "      <td>Jessie</td>\n",
              "      <td>1893.93</td>\n",
              "      <td>21111.0</td>\n",
              "      <td>192</td>\n",
              "      <td>0.545687</td>\n",
              "    </tr>\n",
              "    <tr>\n",
              "      <th>2</th>\n",
              "      <td>9009</td>\n",
              "      <td>Fred</td>\n",
              "      <td>1724.12</td>\n",
              "      <td>13598.0</td>\n",
              "      <td>172</td>\n",
              "      <td>0.758935</td>\n",
              "    </tr>\n",
              "    <tr>\n",
              "      <th>3</th>\n",
              "      <td>9010</td>\n",
              "      <td>Marie</td>\n",
              "      <td>1444.66</td>\n",
              "      <td>10306.0</td>\n",
              "      <td>156</td>\n",
              "      <td>0.908209</td>\n",
              "    </tr>\n",
              "    <tr>\n",
              "      <th>4</th>\n",
              "      <td>9011</td>\n",
              "      <td>Mallory</td>\n",
              "      <td>2106.47</td>\n",
              "      <td>22648.0</td>\n",
              "      <td>216</td>\n",
              "      <td>0.572236</td>\n",
              "    </tr>\n",
              "    <tr>\n",
              "      <th>...</th>\n",
              "      <td>...</td>\n",
              "      <td>...</td>\n",
              "      <td>...</td>\n",
              "      <td>...</td>\n",
              "      <td>...</td>\n",
              "      <td>...</td>\n",
              "    </tr>\n",
              "    <tr>\n",
              "      <th>427</th>\n",
              "      <td>9434</td>\n",
              "      <td>Alícia</td>\n",
              "      <td>1570.27</td>\n",
              "      <td>15719.0</td>\n",
              "      <td>164</td>\n",
              "      <td>0.625994</td>\n",
              "    </tr>\n",
              "    <tr>\n",
              "      <th>428</th>\n",
              "      <td>9435</td>\n",
              "      <td>Paige</td>\n",
              "      <td>1715.56</td>\n",
              "      <td>18172.0</td>\n",
              "      <td>156</td>\n",
              "      <td>0.515078</td>\n",
              "    </tr>\n",
              "    <tr>\n",
              "      <th>429</th>\n",
              "      <td>9436</td>\n",
              "      <td>Alison</td>\n",
              "      <td>1551.00</td>\n",
              "      <td>15084.0</td>\n",
              "      <td>160</td>\n",
              "      <td>0.636436</td>\n",
              "    </tr>\n",
              "    <tr>\n",
              "      <th>430</th>\n",
              "      <td>9437</td>\n",
              "      <td>Bonnie</td>\n",
              "      <td>2310.25</td>\n",
              "      <td>20166.0</td>\n",
              "      <td>236</td>\n",
              "      <td>0.702172</td>\n",
              "    </tr>\n",
              "    <tr>\n",
              "      <th>431</th>\n",
              "      <td>9438</td>\n",
              "      <td>Ruby</td>\n",
              "      <td>1783.83</td>\n",
              "      <td>16127.0</td>\n",
              "      <td>196</td>\n",
              "      <td>0.729212</td>\n",
              "    </tr>\n",
              "  </tbody>\n",
              "</table>\n",
              "<p>432 rows × 6 columns</p>\n",
              "</div>\n",
              "      <button class=\"colab-df-convert\" onclick=\"convertToInteractive('df-1129078e-e040-4aba-913f-c5e0af76460b')\"\n",
              "              title=\"Convert this dataframe to an interactive table.\"\n",
              "              style=\"display:none;\">\n",
              "        \n",
              "  <svg xmlns=\"http://www.w3.org/2000/svg\" height=\"24px\"viewBox=\"0 0 24 24\"\n",
              "       width=\"24px\">\n",
              "    <path d=\"M0 0h24v24H0V0z\" fill=\"none\"/>\n",
              "    <path d=\"M18.56 5.44l.94 2.06.94-2.06 2.06-.94-2.06-.94-.94-2.06-.94 2.06-2.06.94zm-11 1L8.5 8.5l.94-2.06 2.06-.94-2.06-.94L8.5 2.5l-.94 2.06-2.06.94zm10 10l.94 2.06.94-2.06 2.06-.94-2.06-.94-.94-2.06-.94 2.06-2.06.94z\"/><path d=\"M17.41 7.96l-1.37-1.37c-.4-.4-.92-.59-1.43-.59-.52 0-1.04.2-1.43.59L10.3 9.45l-7.72 7.72c-.78.78-.78 2.05 0 2.83L4 21.41c.39.39.9.59 1.41.59.51 0 1.02-.2 1.41-.59l7.78-7.78 2.81-2.81c.8-.78.8-2.07 0-2.86zM5.41 20L4 18.59l7.72-7.72 1.47 1.35L5.41 20z\"/>\n",
              "  </svg>\n",
              "      </button>\n",
              "      \n",
              "  <style>\n",
              "    .colab-df-container {\n",
              "      display:flex;\n",
              "      flex-wrap:wrap;\n",
              "      gap: 12px;\n",
              "    }\n",
              "\n",
              "    .colab-df-convert {\n",
              "      background-color: #E8F0FE;\n",
              "      border: none;\n",
              "      border-radius: 50%;\n",
              "      cursor: pointer;\n",
              "      display: none;\n",
              "      fill: #1967D2;\n",
              "      height: 32px;\n",
              "      padding: 0 0 0 0;\n",
              "      width: 32px;\n",
              "    }\n",
              "\n",
              "    .colab-df-convert:hover {\n",
              "      background-color: #E2EBFA;\n",
              "      box-shadow: 0px 1px 2px rgba(60, 64, 67, 0.3), 0px 1px 3px 1px rgba(60, 64, 67, 0.15);\n",
              "      fill: #174EA6;\n",
              "    }\n",
              "\n",
              "    [theme=dark] .colab-df-convert {\n",
              "      background-color: #3B4455;\n",
              "      fill: #D2E3FC;\n",
              "    }\n",
              "\n",
              "    [theme=dark] .colab-df-convert:hover {\n",
              "      background-color: #434B5C;\n",
              "      box-shadow: 0px 1px 3px 1px rgba(0, 0, 0, 0.15);\n",
              "      filter: drop-shadow(0px 1px 2px rgba(0, 0, 0, 0.3));\n",
              "      fill: #FFFFFF;\n",
              "    }\n",
              "  </style>\n",
              "\n",
              "      <script>\n",
              "        const buttonEl =\n",
              "          document.querySelector('#df-1129078e-e040-4aba-913f-c5e0af76460b button.colab-df-convert');\n",
              "        buttonEl.style.display =\n",
              "          google.colab.kernel.accessAllowed ? 'block' : 'none';\n",
              "\n",
              "        async function convertToInteractive(key) {\n",
              "          const element = document.querySelector('#df-1129078e-e040-4aba-913f-c5e0af76460b');\n",
              "          const dataTable =\n",
              "            await google.colab.kernel.invokeFunction('convertToInteractive',\n",
              "                                                     [key], {});\n",
              "          if (!dataTable) return;\n",
              "\n",
              "          const docLinkHtml = 'Like what you see? Visit the ' +\n",
              "            '<a target=\"_blank\" href=https://colab.research.google.com/notebooks/data_table.ipynb>data table notebook</a>'\n",
              "            + ' to learn more about interactive tables.';\n",
              "          element.innerHTML = '';\n",
              "          dataTable['output_type'] = 'display_data';\n",
              "          await google.colab.output.renderOutput(dataTable, element);\n",
              "          const docLink = document.createElement('div');\n",
              "          docLink.innerHTML = docLinkHtml;\n",
              "          element.appendChild(docLink);\n",
              "        }\n",
              "      </script>\n",
              "    </div>\n",
              "  </div>\n",
              "  "
            ]
          },
          "metadata": {},
          "execution_count": 62
        }
      ]
    },
    {
      "cell_type": "code",
      "source": [
        "#filter with effeciency > .95\n",
        "#sort by desc\n",
        "\n",
        "Top_drivers_effeciency = data_merged[data_merged[\"effeciency\"] > .95]\n",
        "Top_drivers_effeciency = Top_drivers_effeciency.sort_values(by='effeciency', ascending=False)\n",
        "Top_drivers_effeciency"
      ],
      "metadata": {
        "colab": {
          "base_uri": "https://localhost:8080/",
          "height": 300
        },
        "id": "vN1qBsBcND0G",
        "outputId": "618e436d-b5de-4425-fb09-32e19e365891"
      },
      "execution_count": 63,
      "outputs": [
        {
          "output_type": "execute_result",
          "data": {
            "text/plain": [
              "    Driver ID Driver Name      Tip  driver_efficiency_time  Orders_count  \\\n",
              "394      9401       Robin  1617.86                  8101.0           144   \n",
              "130      9137       Larry  1175.68                  7941.0           136   \n",
              "124      9131       Irene  1655.00                  9095.0           152   \n",
              "374      9381       Daisy  1432.25                 10028.0           164   \n",
              "323      9330     Dorothy  1721.71                 11321.0           184   \n",
              "99       9106     Michael   859.59                  6438.0           104   \n",
              "10       9017      Briana  1328.20                  9614.0           153   \n",
              "123      9130        Emma  2100.59                 13591.0           216   \n",
              "\n",
              "     effeciency  \n",
              "394    1.066535  \n",
              "130    1.027578  \n",
              "124    1.002749  \n",
              "374    0.981252  \n",
              "323    0.975179  \n",
              "99     0.969245  \n",
              "10     0.954857  \n",
              "123    0.953572  "
            ],
            "text/html": [
              "\n",
              "  <div id=\"df-36ce662b-12b7-42cb-b7c6-1508d71917e8\">\n",
              "    <div class=\"colab-df-container\">\n",
              "      <div>\n",
              "<style scoped>\n",
              "    .dataframe tbody tr th:only-of-type {\n",
              "        vertical-align: middle;\n",
              "    }\n",
              "\n",
              "    .dataframe tbody tr th {\n",
              "        vertical-align: top;\n",
              "    }\n",
              "\n",
              "    .dataframe thead th {\n",
              "        text-align: right;\n",
              "    }\n",
              "</style>\n",
              "<table border=\"1\" class=\"dataframe\">\n",
              "  <thead>\n",
              "    <tr style=\"text-align: right;\">\n",
              "      <th></th>\n",
              "      <th>Driver ID</th>\n",
              "      <th>Driver Name</th>\n",
              "      <th>Tip</th>\n",
              "      <th>driver_efficiency_time</th>\n",
              "      <th>Orders_count</th>\n",
              "      <th>effeciency</th>\n",
              "    </tr>\n",
              "  </thead>\n",
              "  <tbody>\n",
              "    <tr>\n",
              "      <th>394</th>\n",
              "      <td>9401</td>\n",
              "      <td>Robin</td>\n",
              "      <td>1617.86</td>\n",
              "      <td>8101.0</td>\n",
              "      <td>144</td>\n",
              "      <td>1.066535</td>\n",
              "    </tr>\n",
              "    <tr>\n",
              "      <th>130</th>\n",
              "      <td>9137</td>\n",
              "      <td>Larry</td>\n",
              "      <td>1175.68</td>\n",
              "      <td>7941.0</td>\n",
              "      <td>136</td>\n",
              "      <td>1.027578</td>\n",
              "    </tr>\n",
              "    <tr>\n",
              "      <th>124</th>\n",
              "      <td>9131</td>\n",
              "      <td>Irene</td>\n",
              "      <td>1655.00</td>\n",
              "      <td>9095.0</td>\n",
              "      <td>152</td>\n",
              "      <td>1.002749</td>\n",
              "    </tr>\n",
              "    <tr>\n",
              "      <th>374</th>\n",
              "      <td>9381</td>\n",
              "      <td>Daisy</td>\n",
              "      <td>1432.25</td>\n",
              "      <td>10028.0</td>\n",
              "      <td>164</td>\n",
              "      <td>0.981252</td>\n",
              "    </tr>\n",
              "    <tr>\n",
              "      <th>323</th>\n",
              "      <td>9330</td>\n",
              "      <td>Dorothy</td>\n",
              "      <td>1721.71</td>\n",
              "      <td>11321.0</td>\n",
              "      <td>184</td>\n",
              "      <td>0.975179</td>\n",
              "    </tr>\n",
              "    <tr>\n",
              "      <th>99</th>\n",
              "      <td>9106</td>\n",
              "      <td>Michael</td>\n",
              "      <td>859.59</td>\n",
              "      <td>6438.0</td>\n",
              "      <td>104</td>\n",
              "      <td>0.969245</td>\n",
              "    </tr>\n",
              "    <tr>\n",
              "      <th>10</th>\n",
              "      <td>9017</td>\n",
              "      <td>Briana</td>\n",
              "      <td>1328.20</td>\n",
              "      <td>9614.0</td>\n",
              "      <td>153</td>\n",
              "      <td>0.954857</td>\n",
              "    </tr>\n",
              "    <tr>\n",
              "      <th>123</th>\n",
              "      <td>9130</td>\n",
              "      <td>Emma</td>\n",
              "      <td>2100.59</td>\n",
              "      <td>13591.0</td>\n",
              "      <td>216</td>\n",
              "      <td>0.953572</td>\n",
              "    </tr>\n",
              "  </tbody>\n",
              "</table>\n",
              "</div>\n",
              "      <button class=\"colab-df-convert\" onclick=\"convertToInteractive('df-36ce662b-12b7-42cb-b7c6-1508d71917e8')\"\n",
              "              title=\"Convert this dataframe to an interactive table.\"\n",
              "              style=\"display:none;\">\n",
              "        \n",
              "  <svg xmlns=\"http://www.w3.org/2000/svg\" height=\"24px\"viewBox=\"0 0 24 24\"\n",
              "       width=\"24px\">\n",
              "    <path d=\"M0 0h24v24H0V0z\" fill=\"none\"/>\n",
              "    <path d=\"M18.56 5.44l.94 2.06.94-2.06 2.06-.94-2.06-.94-.94-2.06-.94 2.06-2.06.94zm-11 1L8.5 8.5l.94-2.06 2.06-.94-2.06-.94L8.5 2.5l-.94 2.06-2.06.94zm10 10l.94 2.06.94-2.06 2.06-.94-2.06-.94-.94-2.06-.94 2.06-2.06.94z\"/><path d=\"M17.41 7.96l-1.37-1.37c-.4-.4-.92-.59-1.43-.59-.52 0-1.04.2-1.43.59L10.3 9.45l-7.72 7.72c-.78.78-.78 2.05 0 2.83L4 21.41c.39.39.9.59 1.41.59.51 0 1.02-.2 1.41-.59l7.78-7.78 2.81-2.81c.8-.78.8-2.07 0-2.86zM5.41 20L4 18.59l7.72-7.72 1.47 1.35L5.41 20z\"/>\n",
              "  </svg>\n",
              "      </button>\n",
              "      \n",
              "  <style>\n",
              "    .colab-df-container {\n",
              "      display:flex;\n",
              "      flex-wrap:wrap;\n",
              "      gap: 12px;\n",
              "    }\n",
              "\n",
              "    .colab-df-convert {\n",
              "      background-color: #E8F0FE;\n",
              "      border: none;\n",
              "      border-radius: 50%;\n",
              "      cursor: pointer;\n",
              "      display: none;\n",
              "      fill: #1967D2;\n",
              "      height: 32px;\n",
              "      padding: 0 0 0 0;\n",
              "      width: 32px;\n",
              "    }\n",
              "\n",
              "    .colab-df-convert:hover {\n",
              "      background-color: #E2EBFA;\n",
              "      box-shadow: 0px 1px 2px rgba(60, 64, 67, 0.3), 0px 1px 3px 1px rgba(60, 64, 67, 0.15);\n",
              "      fill: #174EA6;\n",
              "    }\n",
              "\n",
              "    [theme=dark] .colab-df-convert {\n",
              "      background-color: #3B4455;\n",
              "      fill: #D2E3FC;\n",
              "    }\n",
              "\n",
              "    [theme=dark] .colab-df-convert:hover {\n",
              "      background-color: #434B5C;\n",
              "      box-shadow: 0px 1px 3px 1px rgba(0, 0, 0, 0.15);\n",
              "      filter: drop-shadow(0px 1px 2px rgba(0, 0, 0, 0.3));\n",
              "      fill: #FFFFFF;\n",
              "    }\n",
              "  </style>\n",
              "\n",
              "      <script>\n",
              "        const buttonEl =\n",
              "          document.querySelector('#df-36ce662b-12b7-42cb-b7c6-1508d71917e8 button.colab-df-convert');\n",
              "        buttonEl.style.display =\n",
              "          google.colab.kernel.accessAllowed ? 'block' : 'none';\n",
              "\n",
              "        async function convertToInteractive(key) {\n",
              "          const element = document.querySelector('#df-36ce662b-12b7-42cb-b7c6-1508d71917e8');\n",
              "          const dataTable =\n",
              "            await google.colab.kernel.invokeFunction('convertToInteractive',\n",
              "                                                     [key], {});\n",
              "          if (!dataTable) return;\n",
              "\n",
              "          const docLinkHtml = 'Like what you see? Visit the ' +\n",
              "            '<a target=\"_blank\" href=https://colab.research.google.com/notebooks/data_table.ipynb>data table notebook</a>'\n",
              "            + ' to learn more about interactive tables.';\n",
              "          element.innerHTML = '';\n",
              "          dataTable['output_type'] = 'display_data';\n",
              "          await google.colab.output.renderOutput(dataTable, element);\n",
              "          const docLink = document.createElement('div');\n",
              "          docLink.innerHTML = docLinkHtml;\n",
              "          element.appendChild(docLink);\n",
              "        }\n",
              "      </script>\n",
              "    </div>\n",
              "  </div>\n",
              "  "
            ]
          },
          "metadata": {},
          "execution_count": 63
        }
      ]
    },
    {
      "cell_type": "code",
      "source": [
        "x = Top_drivers_effeciency[\"Driver Name\"].astype('category')\n",
        "y = round(Top_drivers_effeciency[\"effeciency\"], 2)\n",
        "\n",
        "# Plot the line\n",
        "plt.plot(x, y , marker='o')\n",
        "\n",
        "# Add a title and labels to the axes\n",
        "plt.title('Top Drivers by effeciency')\n",
        "plt.xlabel('Driver Name')\n",
        "plt.ylabel('Efficiency')\n",
        "\n",
        "#show data labels on line\n",
        "for x, y in zip(x, y):\n",
        "    plt.annotate(str(y), (x, y))\n",
        "\n",
        "#remove y axis values\n",
        "\n",
        "plt.yticks([])\n",
        "\n",
        "# Show the plot\n",
        "plt.show()"
      ],
      "metadata": {
        "colab": {
          "base_uri": "https://localhost:8080/",
          "height": 472
        },
        "id": "p4z6U9Cxd9rN",
        "outputId": "bc03c8b2-25d6-4621-9f2c-eda25a960f04"
      },
      "execution_count": 64,
      "outputs": [
        {
          "output_type": "display_data",
          "data": {
            "text/plain": [
              "<Figure size 640x480 with 1 Axes>"
            ],
            "image/png": "[encoded data removed]"
          },
          "metadata": {}
        }
      ]
    },
    {
      "cell_type": "markdown",
      "source": [
        "<a id='TO'></a>\n",
        "\n",
        "#Answer of Question 2\n",
        "\n",
        "#Top 3 drivers by effeciency & Tips\n",
        "\n",
        "* 9131\tIrene\t-- 1655.00\t\t--\t1.002749\n",
        "* 9137\tLarry\t-- 1175.68\t\t-- 1.027578\n",
        "* 9401\tRobin\t-- 1617.86\t\t-- 1.066535\n"
      ],
      "metadata": {
        "id": "xHy2-lMsMmPg"
      }
    },
    {
      "cell_type": "markdown",
      "source": [
        "#Conclusion\n",
        "\n",
        "* only 1% of total amount & only 3 % of orders  are refunded  which is a good sign of customer satisfaction of this service\n",
        "\n",
        "* Total completion rate 97 %\n",
        "\n",
        "* The Beak of ordering time between 12 AM to 3:00 AM all weekdays\n",
        "\n",
        "* only 2715 didn't pay tip about 3.7 % of total orders , which is a good sign of customer satisfaction also\n",
        "\n",
        "\n",
        "\n",
        "\n",
        "\n",
        "* Drivers efficiency  between 0.42 to 1.07\n",
        "\n",
        "* Median of Tip 6.6 & average of Tip 9.5\n",
        "\n",
        "* Top drivers are Robin & Larry & Irene\n",
        "\n",
        "* We have 82 top clients and over 6262 clients who order more than 3000 $ in 4 months from Jan to April\n",
        "\n",
        "### we have to work on maintain them and acquiring new ones with the same characteristics\n",
        "\n"
      ],
      "metadata": {
        "id": "iC9RMV_qZiX8"
      }
    }
  ],
  "metadata": {
    "colab": {
      "provenance": []
    },
    "kernelspec": {
      "display_name": "Python 3",
      "name": "python3"
    },
    "language_info": {
      "name": "python"
    }
  },
  "nbformat": 4,
  "nbformat_minor": 0
}